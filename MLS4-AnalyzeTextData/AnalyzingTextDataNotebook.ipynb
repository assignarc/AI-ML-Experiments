{
 "cells": [
  {
   "cell_type": "markdown",
   "metadata": {
    "id": "e4-U8LXm5bSw"
   },
   "source": [
    "<center><font size=8>Hands-on - Analyzing Text Data</font></center>"
   ]
  },
  {
   "cell_type": "markdown",
   "metadata": {
    "id": "lKDOBv45zw8C"
   },
   "source": [
    "# **Problem Statement**"
   ]
  },
  {
   "cell_type": "markdown",
   "metadata": {
    "id": "wVldHvLCgnr9"
   },
   "source": [
    "## **Business Context**"
   ]
  },
  {
   "cell_type": "markdown",
   "metadata": {
    "id": "KrZVjBusgvTZ"
   },
   "source": [
    "In the rapidly evolving landscape of the entertainment industry, understanding audience feedback through movie reviews is essential for refining content and shaping marketing strategies. However, the sheer volume of reviews presents challenges in efficiently processing and analyzing this information. To remain competitive, entertainment companies must find effective ways to clean and structure this data, enabling them to derive valuable insights for enhancing viewer experiences and making informed decisions."
   ]
  },
  {
   "cell_type": "markdown",
   "metadata": {
    "id": "0Wiey7tkgz8P"
   },
   "source": [
    "## **Objective**"
   ]
  },
  {
   "cell_type": "markdown",
   "metadata": {
    "id": "8Ai9vLkogz8Q"
   },
   "source": [
    "As a data scientist, your objective is to develop an efficient text preprocessing pipeline that will clean and structure a dataset of movie reviews. This preprocessing step will ensure that the data is standardized and ready for further analysis, ultimately supporting the identification of trends and insights that can drive content and marketing strategies in the entertainment industry."
   ]
  },
  {
   "cell_type": "code",
   "execution_count": null,
   "metadata": {
    "executionInfo": {
     "elapsed": 8381,
     "status": "ok",
     "timestamp": 1749725935548,
     "user": {
      "displayName": "Harish R",
      "userId": "16560730339059888072"
     },
     "user_tz": -330
    },
    "id": "79D1rXhBAxCs"
   },
   "outputs": [
    {
     "name": "stdout",
     "output_type": "stream",
     "text": [
      "Requirement already satisfied: pandas==2.2.2 in /Users/vishalkhapre/Documents/Code/AI-ML-Experiments/.venv/lib/python3.10/site-packages (2.2.2)\n",
      "Requirement already satisfied: numpy==2.0.2 in /Users/vishalkhapre/Documents/Code/AI-ML-Experiments/.venv/lib/python3.10/site-packages (2.0.2)\n",
      "Requirement already satisfied: nltk==3.9.1 in /Users/vishalkhapre/Documents/Code/AI-ML-Experiments/.venv/lib/python3.10/site-packages (3.9.1)\n",
      "Requirement already satisfied: scikit-learn==1.6.1 in /Users/vishalkhapre/Documents/Code/AI-ML-Experiments/.venv/lib/python3.10/site-packages (1.6.1)\n",
      "Requirement already satisfied: python-dateutil>=2.8.2 in /Users/vishalkhapre/Documents/Code/AI-ML-Experiments/.venv/lib/python3.10/site-packages (from pandas==2.2.2) (2.9.0.post0)\n",
      "Requirement already satisfied: pytz>=2020.1 in /Users/vishalkhapre/Documents/Code/AI-ML-Experiments/.venv/lib/python3.10/site-packages (from pandas==2.2.2) (2025.2)\n",
      "Requirement already satisfied: tzdata>=2022.7 in /Users/vishalkhapre/Documents/Code/AI-ML-Experiments/.venv/lib/python3.10/site-packages (from pandas==2.2.2) (2025.2)\n",
      "Requirement already satisfied: click in /Users/vishalkhapre/Documents/Code/AI-ML-Experiments/.venv/lib/python3.10/site-packages (from nltk==3.9.1) (8.3.0)\n",
      "Requirement already satisfied: joblib in /Users/vishalkhapre/Documents/Code/AI-ML-Experiments/.venv/lib/python3.10/site-packages (from nltk==3.9.1) (1.5.2)\n",
      "Requirement already satisfied: regex>=2021.8.3 in /Users/vishalkhapre/Documents/Code/AI-ML-Experiments/.venv/lib/python3.10/site-packages (from nltk==3.9.1) (2025.9.18)\n",
      "Requirement already satisfied: tqdm in /Users/vishalkhapre/Documents/Code/AI-ML-Experiments/.venv/lib/python3.10/site-packages (from nltk==3.9.1) (4.67.1)\n",
      "Requirement already satisfied: scipy>=1.6.0 in /Users/vishalkhapre/Documents/Code/AI-ML-Experiments/.venv/lib/python3.10/site-packages (from scikit-learn==1.6.1) (1.15.3)\n",
      "Requirement already satisfied: threadpoolctl>=3.1.0 in /Users/vishalkhapre/Documents/Code/AI-ML-Experiments/.venv/lib/python3.10/site-packages (from scikit-learn==1.6.1) (3.6.0)\n",
      "Requirement already satisfied: six>=1.5 in /Users/vishalkhapre/Documents/Code/AI-ML-Experiments/.venv/lib/python3.10/site-packages (from python-dateutil>=2.8.2->pandas==2.2.2) (1.17.0)\n"
     ]
    }
   ],
   "source": [
    "!pip install pandas==2.2.2 numpy==2.0.2 nltk==3.9.1 scikit-learn==1.6.1\n",
    "\n",
    "# For cloud execution environments like Google Colab or Jupyter Notebooks, you can use the following command to install specific versions of the libraries:\n",
    "# %pip install pandas==2.2.2 numpy==2.0.2 nltk==3.9.1 scikit-learn==1.6.1\n"
   ]
  },
  {
   "cell_type": "code",
   "execution_count": 39,
   "metadata": {
    "executionInfo": {
     "elapsed": 1351,
     "status": "ok",
     "timestamp": 1749725940008,
     "user": {
      "displayName": "Harish R",
      "userId": "16560730339059888072"
     },
     "user_tz": -330
    },
    "id": "xhZUQ78gzw8H"
   },
   "outputs": [
    {
     "name": "stderr",
     "output_type": "stream",
     "text": [
      "[nltk_data] Downloading package stopwords to\n",
      "[nltk_data]     /Users/vishalkhapre/nltk_data...\n",
      "[nltk_data]   Package stopwords is already up-to-date!\n",
      "[nltk_data] Downloading package wordnet to\n",
      "[nltk_data]     /Users/vishalkhapre/nltk_data...\n",
      "[nltk_data]   Package wordnet is already up-to-date!\n"
     ]
    }
   ],
   "source": [
    "# to read and manipulate the data\n",
    "import pandas as pd\n",
    "import numpy as np\n",
    "import re\n",
    "import nltk\n",
    "nltk.download('stopwords')\n",
    "from nltk.corpus import stopwords\n",
    "nltk.download('wordnet')\n",
    "from nltk.stem.porter import PorterStemmer\n",
    "from sklearn.feature_extraction.text import CountVectorizer\n",
    "\n",
    "# setting column to the maximum column width as per the data\n",
    "pd.set_option('max_colwidth', None)"
   ]
  },
  {
   "cell_type": "code",
   "execution_count": 40,
   "metadata": {
    "executionInfo": {
     "elapsed": 48,
     "status": "ok",
     "timestamp": 1749725940628,
     "user": {
      "displayName": "Harish R",
      "userId": "16560730339059888072"
     },
     "user_tz": -330
    },
    "id": "ZsapN3Mp6XZ8"
   },
   "outputs": [],
   "source": [
    "# uncomment and run the below code snippets if the dataset is present in the Google Drive\n",
    "# from google.colab import drive\n",
    "# drive.mount('/content/drive')"
   ]
  },
  {
   "cell_type": "code",
   "execution_count": 41,
   "metadata": {
    "executionInfo": {
     "elapsed": 368,
     "status": "ok",
     "timestamp": 1749725940997,
     "user": {
      "displayName": "Harish R",
      "userId": "16560730339059888072"
     },
     "user_tz": -330
    },
    "id": "CThCS4NJzw8S"
   },
   "outputs": [],
   "source": [
    "# loading data into a pandas dataframe\n",
    "reviews = pd.read_csv(\"movie_reviews.csv\")"
   ]
  },
  {
   "cell_type": "code",
   "execution_count": 42,
   "metadata": {
    "executionInfo": {
     "elapsed": 10,
     "status": "ok",
     "timestamp": 1749725941015,
     "user": {
      "displayName": "Harish R",
      "userId": "16560730339059888072"
     },
     "user_tz": -330
    },
    "id": "qEvz0b9gzw8U"
   },
   "outputs": [],
   "source": [
    "# creating a copy of the data\n",
    "data = reviews.copy()"
   ]
  },
  {
   "cell_type": "code",
   "execution_count": 43,
   "metadata": {
    "colab": {
     "base_uri": "https://localhost:8080/",
     "height": 0
    },
    "executionInfo": {
     "elapsed": 524,
     "status": "ok",
     "timestamp": 1749725942220,
     "user": {
      "displayName": "Harish R",
      "userId": "16560730339059888072"
     },
     "user_tz": -330
    },
    "id": "bj4-QHJ6BiCS",
    "outputId": "2b795203-8fa0-4230-cc36-e586c1bcf3ee"
   },
   "outputs": [
    {
     "data": {
      "text/html": [
       "<div>\n",
       "<style scoped>\n",
       "    .dataframe tbody tr th:only-of-type {\n",
       "        vertical-align: middle;\n",
       "    }\n",
       "\n",
       "    .dataframe tbody tr th {\n",
       "        vertical-align: top;\n",
       "    }\n",
       "\n",
       "    .dataframe thead th {\n",
       "        text-align: right;\n",
       "    }\n",
       "</style>\n",
       "<table border=\"1\" class=\"dataframe\">\n",
       "  <thead>\n",
       "    <tr style=\"text-align: right;\">\n",
       "      <th></th>\n",
       "      <th>review</th>\n",
       "    </tr>\n",
       "  </thead>\n",
       "  <tbody>\n",
       "    <tr>\n",
       "      <th>0</th>\n",
       "      <td>Okay, I know this does'nt project India in a good light. But the overall theme of the movie is not India, it's Shakti. The power of a warlord, and the power of a mother. The relationship between Nandini and her husband and son swallow you up in their warmth. Then things go terribly wrong. The interaction between Nandini and her father in law - the power of their dysfunctional relationship - and the lives changed by it are the strengths of this movie. Shah Rukh Khan's performance seems to be a mere cameo compared to the believable desperation of Karisma Kapoor. It is easy to get caught up in the love, violence and redemption of lives in this film, and find yourself heaving a sigh of relief and sadness at the climax. The musical interludes are strengths, believable and well done.</td>\n",
       "    </tr>\n",
       "    <tr>\n",
       "      <th>1</th>\n",
       "      <td>Despite John Travolta's statements in interviews that this was his favorite role of his career, \"Be Cool\" proves to be a disappointing sequel to 1995's witty and clever \"Get Shorty.\"&lt;br /&gt;&lt;br /&gt;Travolta delivers a pleasant enough performance in this mildly entertaining film, but ultimately the movie falls flat due to an underdeveloped plot, unlikeable characters, and a surprising lack of chemistry between leads Travolta and Uma Thurman. Although there are some laughs, this unfunny dialog example (which appeared frequently in the trailers) kind of says it all: Thurman: Do you dance? Travolta: Hey, I'm from Brooklyn.&lt;br /&gt;&lt;br /&gt;The film suggests that everyone in the entertainment business is a gangster or aspires to be one, likening it to organized crime. In \"Get Shorty,\" the premise of a gangster \"going legitimate\" by getting into movies was a clever fish-out-of water idea, but in \"Be Cool,\" it seems the biz has entirely gone crooked since then.&lt;br /&gt;&lt;br /&gt;The film is interestingly casted and the absolute highlight is a \"monolgue\" delivered by The Rock, whose character is an aspiring actor as well as a goon, where he reenacts a scene between Gabrielle Union and Kirsten Dunst from \"Bring It On.\" Vince Vaughan's character thinks he's black and he's often seen dressed as a pimp-- this was quite funny in the first scene that introduces him and gets tired and embarrassing almost immediately afterward.&lt;br /&gt;&lt;br /&gt;Overall, \"Be Cool\" may be worth a rental for John Travolta die-hards (of which I am one), but you may want to keep your finger close to the fast forward button to get through it without feeling that you wasted too much time. Fans of \"Get Shorty\" may actually wish to avoid this, as the sequel is devoid of most things that made that one a winner. I rate this movie an admittedly harsh 4/10.</td>\n",
       "    </tr>\n",
       "    <tr>\n",
       "      <th>2</th>\n",
       "      <td>I am a kung fu fan, but not a Woo fan. I have no interest in gangster movies filled with over-the-top gun-play. Now, martial arts; *that's* beautiful! And John Woo surprised me here by producing a highly entertaining kung fu movie, which almost has *too much* fighting, if such a thing is possible! This is good stuff.&lt;br /&gt;&lt;br /&gt;Many of the fight scenes are very good (and some of them are less good), and the main characters are amusing and likable. The bad guys are a bit too unbelievably evil, but entertaining none the less. You gotta see the Sleeping Wizard!! He can only fight when he's asleep - it's hysterical!&lt;br /&gt;&lt;br /&gt;Upon repeated viewings, however, Last Hurrah For Chivalry can tend to get a little boring and long-winded, also especially because many of the fight scenes are actually not that good. Hence, I rate it \"only\" a 7 out of 10. But it really is almost an \"8\".&lt;br /&gt;&lt;br /&gt;All in all one of the better kung fu movies, made smack-dab in the heart of kung fu cinema's prime. All the really good kung fu movies are from the mid- to late 1970ies, with some notable exceptions from the late '60ies and early '70ies (and early '80ies, to be fair).</td>\n",
       "    </tr>\n",
       "    <tr>\n",
       "      <th>3</th>\n",
       "      <td>He seems to be a control freak. I have heard him comment on \"losing control of the show\" and tell another guest who brought live animals that he had one rule-\"no snakes.\" He needs to hire a comedy writer because his jokes are lame. The only reason I watch him is because he some some great guests and bands. &lt;br /&gt;&lt;br /&gt;I watched the Craig Ferguson show for a while but his show is even worse. He likes to bull sh** to burn time.I don't think either man has much of a future in late night talk shows.&lt;br /&gt;&lt;br /&gt;Daily also has the annoying habit of sticking his tongue out to lick his lips. He must do this at least 10 times a show. I do like the Joe Firstman band. Carson Daily needs to lighten up before it is too late.</td>\n",
       "    </tr>\n",
       "    <tr>\n",
       "      <th>4</th>\n",
       "      <td>Admittedly, there are some scenes in this movie that seem a little unrealistic. The ravishing woman first panics and then, only a few minutes later, she starts kissing the young lad while the old guy is right next to her. But as the film goes along we learn that she is a little volatile girl (or slut) and that partly explains her behavior. The cinematography of this movie is well done. We get to see the elevator from almost every angle and perspective, and some of those images and scenes really raise the tension. Götz George plays his character well, a wannabe hot-shot getting old and being overpowered by young men like the Jaennicke character. Wolfgang Kieling who I admired in Hitchcock's THE TORN CURTAIN delivers a great performance that, although he doesn't say much, he is by far the best actor in this play. One critic complained about how unrealistic the film was and that in a real case of emergency nothing would really happen. But then again, how realistic are films such as Mission impossible or Phone Booth. Given the fact that we are talking about a movie here, and that in a movie you always have to deal with some scenes that aren't very likely to occur in real life, you can still enjoy this movie. It's a lot better than many things that I see on German TV these days and I think that the vintage 80's style added something to this film.</td>\n",
       "    </tr>\n",
       "  </tbody>\n",
       "</table>\n",
       "</div>"
      ],
      "text/plain": [
       "                                                                                                                                                                                                                                                                                                                                                                                                                                                                                                                                                                                                                                                                                                                                                                                                                                                                                                                                                                                                                                                                                                                                                                                                                                                                                                                                                                                                                                                                                                                                                                                                                                                                                                                                                                                                                                                                                         review\n",
       "0                                                                                                                                                                                                                                                                                                                                                                                                                                                                                                                                                                                                                                                                                                                                                                                                                                                                                                                                                                                                                                                                          Okay, I know this does'nt project India in a good light. But the overall theme of the movie is not India, it's Shakti. The power of a warlord, and the power of a mother. The relationship between Nandini and her husband and son swallow you up in their warmth. Then things go terribly wrong. The interaction between Nandini and her father in law - the power of their dysfunctional relationship - and the lives changed by it are the strengths of this movie. Shah Rukh Khan's performance seems to be a mere cameo compared to the believable desperation of Karisma Kapoor. It is easy to get caught up in the love, violence and redemption of lives in this film, and find yourself heaving a sigh of relief and sadness at the climax. The musical interludes are strengths, believable and well done.\n",
       "1  Despite John Travolta's statements in interviews that this was his favorite role of his career, \"Be Cool\" proves to be a disappointing sequel to 1995's witty and clever \"Get Shorty.\"<br /><br />Travolta delivers a pleasant enough performance in this mildly entertaining film, but ultimately the movie falls flat due to an underdeveloped plot, unlikeable characters, and a surprising lack of chemistry between leads Travolta and Uma Thurman. Although there are some laughs, this unfunny dialog example (which appeared frequently in the trailers) kind of says it all: Thurman: Do you dance? Travolta: Hey, I'm from Brooklyn.<br /><br />The film suggests that everyone in the entertainment business is a gangster or aspires to be one, likening it to organized crime. In \"Get Shorty,\" the premise of a gangster \"going legitimate\" by getting into movies was a clever fish-out-of water idea, but in \"Be Cool,\" it seems the biz has entirely gone crooked since then.<br /><br />The film is interestingly casted and the absolute highlight is a \"monolgue\" delivered by The Rock, whose character is an aspiring actor as well as a goon, where he reenacts a scene between Gabrielle Union and Kirsten Dunst from \"Bring It On.\" Vince Vaughan's character thinks he's black and he's often seen dressed as a pimp-- this was quite funny in the first scene that introduces him and gets tired and embarrassing almost immediately afterward.<br /><br />Overall, \"Be Cool\" may be worth a rental for John Travolta die-hards (of which I am one), but you may want to keep your finger close to the fast forward button to get through it without feeling that you wasted too much time. Fans of \"Get Shorty\" may actually wish to avoid this, as the sequel is devoid of most things that made that one a winner. I rate this movie an admittedly harsh 4/10.\n",
       "2                                                                                                                                                                                                                                                                                                                                                                                                                                                                                                                                                                                                                                                                                 I am a kung fu fan, but not a Woo fan. I have no interest in gangster movies filled with over-the-top gun-play. Now, martial arts; *that's* beautiful! And John Woo surprised me here by producing a highly entertaining kung fu movie, which almost has *too much* fighting, if such a thing is possible! This is good stuff.<br /><br />Many of the fight scenes are very good (and some of them are less good), and the main characters are amusing and likable. The bad guys are a bit too unbelievably evil, but entertaining none the less. You gotta see the Sleeping Wizard!! He can only fight when he's asleep - it's hysterical!<br /><br />Upon repeated viewings, however, Last Hurrah For Chivalry can tend to get a little boring and long-winded, also especially because many of the fight scenes are actually not that good. Hence, I rate it \"only\" a 7 out of 10. But it really is almost an \"8\".<br /><br />All in all one of the better kung fu movies, made smack-dab in the heart of kung fu cinema's prime. All the really good kung fu movies are from the mid- to late 1970ies, with some notable exceptions from the late '60ies and early '70ies (and early '80ies, to be fair).\n",
       "3                                                                                                                                                                                                                                                                                                                                                                                                                                                                                                                                                                                                                                                                                                                                                                                                                                                                                                                                                                                                                                                                                                                                             He seems to be a control freak. I have heard him comment on \"losing control of the show\" and tell another guest who brought live animals that he had one rule-\"no snakes.\" He needs to hire a comedy writer because his jokes are lame. The only reason I watch him is because he some some great guests and bands. <br /><br />I watched the Craig Ferguson show for a while but his show is even worse. He likes to bull sh** to burn time.I don't think either man has much of a future in late night talk shows.<br /><br />Daily also has the annoying habit of sticking his tongue out to lick his lips. He must do this at least 10 times a show. I do like the Joe Firstman band. Carson Daily needs to lighten up before it is too late.\n",
       "4                                                                                                                                                                                                                                                                                                                                                                                                                                                                           Admittedly, there are some scenes in this movie that seem a little unrealistic. The ravishing woman first panics and then, only a few minutes later, she starts kissing the young lad while the old guy is right next to her. But as the film goes along we learn that she is a little volatile girl (or slut) and that partly explains her behavior. The cinematography of this movie is well done. We get to see the elevator from almost every angle and perspective, and some of those images and scenes really raise the tension. Götz George plays his character well, a wannabe hot-shot getting old and being overpowered by young men like the Jaennicke character. Wolfgang Kieling who I admired in Hitchcock's THE TORN CURTAIN delivers a great performance that, although he doesn't say much, he is by far the best actor in this play. One critic complained about how unrealistic the film was and that in a real case of emergency nothing would really happen. But then again, how realistic are films such as Mission impossible or Phone Booth. Given the fact that we are talking about a movie here, and that in a movie you always have to deal with some scenes that aren't very likely to occur in real life, you can still enjoy this movie. It's a lot better than many things that I see on German TV these days and I think that the vintage 80's style added something to this film."
      ]
     },
     "execution_count": 43,
     "metadata": {},
     "output_type": "execute_result"
    }
   ],
   "source": [
    "data.head(5)"
   ]
  },
  {
   "cell_type": "code",
   "execution_count": 44,
   "metadata": {
    "colab": {
     "base_uri": "https://localhost:8080/"
    },
    "executionInfo": {
     "elapsed": 7,
     "status": "ok",
     "timestamp": 1749725942221,
     "user": {
      "displayName": "Harish R",
      "userId": "16560730339059888072"
     },
     "user_tz": -330
    },
    "id": "Mcb3m-xKzw8V",
    "outputId": "050c781d-00b0-4ce5-f6e4-3df300f19676"
   },
   "outputs": [
    {
     "data": {
      "text/plain": [
       "(10000, 1)"
      ]
     },
     "execution_count": 44,
     "metadata": {},
     "output_type": "execute_result"
    }
   ],
   "source": [
    "data.shape"
   ]
  },
  {
   "cell_type": "code",
   "execution_count": 45,
   "metadata": {
    "colab": {
     "base_uri": "https://localhost:8080/",
     "height": 0
    },
    "executionInfo": {
     "elapsed": 10,
     "status": "ok",
     "timestamp": 1749725942229,
     "user": {
      "displayName": "Harish R",
      "userId": "16560730339059888072"
     },
     "user_tz": -330
    },
    "id": "k0XZhWGRBiCV",
    "outputId": "ecd045ff-2214-4ded-a175-8c76fd36eac6"
   },
   "outputs": [
    {
     "data": {
      "text/plain": [
       "review    0\n",
       "dtype: int64"
      ]
     },
     "execution_count": 45,
     "metadata": {},
     "output_type": "execute_result"
    }
   ],
   "source": [
    "data.isnull().sum()"
   ]
  },
  {
   "cell_type": "code",
   "execution_count": 46,
   "metadata": {
    "colab": {
     "base_uri": "https://localhost:8080/"
    },
    "executionInfo": {
     "elapsed": 10,
     "status": "ok",
     "timestamp": 1749725942241,
     "user": {
      "displayName": "Harish R",
      "userId": "16560730339059888072"
     },
     "user_tz": -330
    },
    "id": "gn5VDFNoBiCW",
    "outputId": "408a7cf6-c192-4825-f4f2-1414e2976cbc"
   },
   "outputs": [
    {
     "data": {
      "text/plain": [
       "np.int64(18)"
      ]
     },
     "execution_count": 46,
     "metadata": {},
     "output_type": "execute_result"
    }
   ],
   "source": [
    "# checking for duplicate values\n",
    "data.duplicated().sum()"
   ]
  },
  {
   "cell_type": "code",
   "execution_count": 47,
   "metadata": {
    "executionInfo": {
     "elapsed": 12,
     "status": "ok",
     "timestamp": 1749725942254,
     "user": {
      "displayName": "Harish R",
      "userId": "16560730339059888072"
     },
     "user_tz": -330
    },
    "id": "lyuQEKBaBiCW"
   },
   "outputs": [],
   "source": [
    "# keeping only the first occurence of duplicate values and dropping the rest\n",
    "data = data.drop_duplicates(keep = 'first')"
   ]
  },
  {
   "cell_type": "code",
   "execution_count": 48,
   "metadata": {
    "executionInfo": {
     "elapsed": 15,
     "status": "ok",
     "timestamp": 1749725942271,
     "user": {
      "displayName": "Harish R",
      "userId": "16560730339059888072"
     },
     "user_tz": -330
    },
    "id": "bTqafJd_BiCW"
   },
   "outputs": [],
   "source": [
    "# reseting the index of the dataframe\n",
    "data = data.reset_index(drop = True)"
   ]
  },
  {
   "cell_type": "code",
   "execution_count": 49,
   "metadata": {
    "colab": {
     "base_uri": "https://localhost:8080/"
    },
    "executionInfo": {
     "elapsed": 35,
     "status": "ok",
     "timestamp": 1749725943707,
     "user": {
      "displayName": "Harish R",
      "userId": "16560730339059888072"
     },
     "user_tz": -330
    },
    "id": "Xq8Obkqkib9X",
    "outputId": "24572f5b-e675-4b7d-afc2-7ed3abb61d50"
   },
   "outputs": [
    {
     "name": "stdout",
     "output_type": "stream",
     "text": [
      "Okay, I know this does'nt project India in a good light. But the overall theme of the movie is not India, it's Shakti. The power of a warlord, and the power of a mother. The relationship between Nandini and her husband and son swallow you up in their warmth. Then things go terribly wrong. The interaction between Nandini and her father in law - the power of their dysfunctional relationship - and the lives changed by it are the strengths of this movie. Shah Rukh Khan's performance seems to be a mere cameo compared to the believable desperation of Karisma Kapoor. It is easy to get caught up in the love, violence and redemption of lives in this film, and find yourself heaving a sigh of relief and sadness at the climax. The musical interludes are strengths, believable and well done.\n",
      "O   , I               '           I                    . B                                         I    ,   '  S     . T                     ,                          . T                        N                                                             . T                            . T                       N                             -                                               -                                                            . S    R    K   '                                                                                 K       K     . I                                      ,                                              ,                                                                     . T                                   ,                         .\n"
     ]
    }
   ],
   "source": [
    "review = data['review'][0]\n",
    "pattern = r'[a-z]'\n",
    "\n",
    "cleaned_review = ''.join(re.sub(pattern,' ',review))\n",
    "\n",
    "print(review)\n",
    "print(cleaned_review)"
   ]
  },
  {
   "cell_type": "code",
   "execution_count": 50,
   "metadata": {
    "executionInfo": {
     "elapsed": 1,
     "status": "ok",
     "timestamp": 1749725943978,
     "user": {
      "displayName": "Harish R",
      "userId": "16560730339059888072"
     },
     "user_tz": -330
    },
    "id": "mGR2c6dCvT-Q"
   },
   "outputs": [],
   "source": [
    "# defining a function to remove special characters\n",
    "def remove_special_characters(text):\n",
    "    # Defining the regex pattern to match non-alphanumeric characters\n",
    "    pattern = '[^A-Za-z0-9]+'\n",
    "\n",
    "    # Finding the specified pattern and replacing non-alphanumeric characters with a blank string\n",
    "    new_text = ''.join(re.sub(pattern, ' ', text))\n",
    "\n",
    "    return new_text"
   ]
  },
  {
   "cell_type": "code",
   "execution_count": 51,
   "metadata": {
    "executionInfo": {
     "elapsed": 3331,
     "status": "ok",
     "timestamp": 1749725947310,
     "user": {
      "displayName": "Harish R",
      "userId": "16560730339059888072"
     },
     "user_tz": -330
    },
    "id": "RQv4x8npctFZ"
   },
   "outputs": [],
   "source": [
    "# Applying the function to remove special characters\n",
    "data['cleaned_text'] = data['review'].apply(remove_special_characters)"
   ]
  },
  {
   "cell_type": "code",
   "execution_count": 52,
   "metadata": {
    "colab": {
     "base_uri": "https://localhost:8080/",
     "height": 1000
    },
    "executionInfo": {
     "elapsed": 98,
     "status": "ok",
     "timestamp": 1749725947406,
     "user": {
      "displayName": "Harish R",
      "userId": "16560730339059888072"
     },
     "user_tz": -330
    },
    "id": "rCxMsKChvT79",
    "outputId": "9f4c2b04-940b-476a-b6c8-39845ccfe5bb"
   },
   "outputs": [
    {
     "data": {
      "text/html": [
       "<div>\n",
       "<style scoped>\n",
       "    .dataframe tbody tr th:only-of-type {\n",
       "        vertical-align: middle;\n",
       "    }\n",
       "\n",
       "    .dataframe tbody tr th {\n",
       "        vertical-align: top;\n",
       "    }\n",
       "\n",
       "    .dataframe thead th {\n",
       "        text-align: right;\n",
       "    }\n",
       "</style>\n",
       "<table border=\"1\" class=\"dataframe\">\n",
       "  <thead>\n",
       "    <tr style=\"text-align: right;\">\n",
       "      <th></th>\n",
       "      <th>review</th>\n",
       "      <th>cleaned_text</th>\n",
       "    </tr>\n",
       "  </thead>\n",
       "  <tbody>\n",
       "    <tr>\n",
       "      <th>0</th>\n",
       "      <td>Okay, I know this does'nt project India in a good light. But the overall theme of the movie is not India, it's Shakti. The power of a warlord, and the power of a mother. The relationship between Nandini and her husband and son swallow you up in their warmth. Then things go terribly wrong. The interaction between Nandini and her father in law - the power of their dysfunctional relationship - and the lives changed by it are the strengths of this movie. Shah Rukh Khan's performance seems to be a mere cameo compared to the believable desperation of Karisma Kapoor. It is easy to get caught up in the love, violence and redemption of lives in this film, and find yourself heaving a sigh of relief and sadness at the climax. The musical interludes are strengths, believable and well done.</td>\n",
       "      <td>Okay I know this does nt project India in a good light But the overall theme of the movie is not India it s Shakti The power of a warlord and the power of a mother The relationship between Nandini and her husband and son swallow you up in their warmth Then things go terribly wrong The interaction between Nandini and her father in law the power of their dysfunctional relationship and the lives changed by it are the strengths of this movie Shah Rukh Khan s performance seems to be a mere cameo compared to the believable desperation of Karisma Kapoor It is easy to get caught up in the love violence and redemption of lives in this film and find yourself heaving a sigh of relief and sadness at the climax The musical interludes are strengths believable and well done</td>\n",
       "    </tr>\n",
       "    <tr>\n",
       "      <th>1</th>\n",
       "      <td>Despite John Travolta's statements in interviews that this was his favorite role of his career, \"Be Cool\" proves to be a disappointing sequel to 1995's witty and clever \"Get Shorty.\"&lt;br /&gt;&lt;br /&gt;Travolta delivers a pleasant enough performance in this mildly entertaining film, but ultimately the movie falls flat due to an underdeveloped plot, unlikeable characters, and a surprising lack of chemistry between leads Travolta and Uma Thurman. Although there are some laughs, this unfunny dialog example (which appeared frequently in the trailers) kind of says it all: Thurman: Do you dance? Travolta: Hey, I'm from Brooklyn.&lt;br /&gt;&lt;br /&gt;The film suggests that everyone in the entertainment business is a gangster or aspires to be one, likening it to organized crime. In \"Get Shorty,\" the premise of a gangster \"going legitimate\" by getting into movies was a clever fish-out-of water idea, but in \"Be Cool,\" it seems the biz has entirely gone crooked since then.&lt;br /&gt;&lt;br /&gt;The film is interestingly casted and the absolute highlight is a \"monolgue\" delivered by The Rock, whose character is an aspiring actor as well as a goon, where he reenacts a scene between Gabrielle Union and Kirsten Dunst from \"Bring It On.\" Vince Vaughan's character thinks he's black and he's often seen dressed as a pimp-- this was quite funny in the first scene that introduces him and gets tired and embarrassing almost immediately afterward.&lt;br /&gt;&lt;br /&gt;Overall, \"Be Cool\" may be worth a rental for John Travolta die-hards (of which I am one), but you may want to keep your finger close to the fast forward button to get through it without feeling that you wasted too much time. Fans of \"Get Shorty\" may actually wish to avoid this, as the sequel is devoid of most things that made that one a winner. I rate this movie an admittedly harsh 4/10.</td>\n",
       "      <td>Despite John Travolta s statements in interviews that this was his favorite role of his career Be Cool proves to be a disappointing sequel to 1995 s witty and clever Get Shorty br br Travolta delivers a pleasant enough performance in this mildly entertaining film but ultimately the movie falls flat due to an underdeveloped plot unlikeable characters and a surprising lack of chemistry between leads Travolta and Uma Thurman Although there are some laughs this unfunny dialog example which appeared frequently in the trailers kind of says it all Thurman Do you dance Travolta Hey I m from Brooklyn br br The film suggests that everyone in the entertainment business is a gangster or aspires to be one likening it to organized crime In Get Shorty the premise of a gangster going legitimate by getting into movies was a clever fish out of water idea but in Be Cool it seems the biz has entirely gone crooked since then br br The film is interestingly casted and the absolute highlight is a monolgue delivered by The Rock whose character is an aspiring actor as well as a goon where he reenacts a scene between Gabrielle Union and Kirsten Dunst from Bring It On Vince Vaughan s character thinks he s black and he s often seen dressed as a pimp this was quite funny in the first scene that introduces him and gets tired and embarrassing almost immediately afterward br br Overall Be Cool may be worth a rental for John Travolta die hards of which I am one but you may want to keep your finger close to the fast forward button to get through it without feeling that you wasted too much time Fans of Get Shorty may actually wish to avoid this as the sequel is devoid of most things that made that one a winner I rate this movie an admittedly harsh 4 10</td>\n",
       "    </tr>\n",
       "    <tr>\n",
       "      <th>2</th>\n",
       "      <td>I am a kung fu fan, but not a Woo fan. I have no interest in gangster movies filled with over-the-top gun-play. Now, martial arts; *that's* beautiful! And John Woo surprised me here by producing a highly entertaining kung fu movie, which almost has *too much* fighting, if such a thing is possible! This is good stuff.&lt;br /&gt;&lt;br /&gt;Many of the fight scenes are very good (and some of them are less good), and the main characters are amusing and likable. The bad guys are a bit too unbelievably evil, but entertaining none the less. You gotta see the Sleeping Wizard!! He can only fight when he's asleep - it's hysterical!&lt;br /&gt;&lt;br /&gt;Upon repeated viewings, however, Last Hurrah For Chivalry can tend to get a little boring and long-winded, also especially because many of the fight scenes are actually not that good. Hence, I rate it \"only\" a 7 out of 10. But it really is almost an \"8\".&lt;br /&gt;&lt;br /&gt;All in all one of the better kung fu movies, made smack-dab in the heart of kung fu cinema's prime. All the really good kung fu movies are from the mid- to late 1970ies, with some notable exceptions from the late '60ies and early '70ies (and early '80ies, to be fair).</td>\n",
       "      <td>I am a kung fu fan but not a Woo fan I have no interest in gangster movies filled with over the top gun play Now martial arts that s beautiful And John Woo surprised me here by producing a highly entertaining kung fu movie which almost has too much fighting if such a thing is possible This is good stuff br br Many of the fight scenes are very good and some of them are less good and the main characters are amusing and likable The bad guys are a bit too unbelievably evil but entertaining none the less You gotta see the Sleeping Wizard He can only fight when he s asleep it s hysterical br br Upon repeated viewings however Last Hurrah For Chivalry can tend to get a little boring and long winded also especially because many of the fight scenes are actually not that good Hence I rate it only a 7 out of 10 But it really is almost an 8 br br All in all one of the better kung fu movies made smack dab in the heart of kung fu cinema s prime All the really good kung fu movies are from the mid to late 1970ies with some notable exceptions from the late 60ies and early 70ies and early 80ies to be fair</td>\n",
       "    </tr>\n",
       "    <tr>\n",
       "      <th>3</th>\n",
       "      <td>He seems to be a control freak. I have heard him comment on \"losing control of the show\" and tell another guest who brought live animals that he had one rule-\"no snakes.\" He needs to hire a comedy writer because his jokes are lame. The only reason I watch him is because he some some great guests and bands. &lt;br /&gt;&lt;br /&gt;I watched the Craig Ferguson show for a while but his show is even worse. He likes to bull sh** to burn time.I don't think either man has much of a future in late night talk shows.&lt;br /&gt;&lt;br /&gt;Daily also has the annoying habit of sticking his tongue out to lick his lips. He must do this at least 10 times a show. I do like the Joe Firstman band. Carson Daily needs to lighten up before it is too late.</td>\n",
       "      <td>He seems to be a control freak I have heard him comment on losing control of the show and tell another guest who brought live animals that he had one rule no snakes He needs to hire a comedy writer because his jokes are lame The only reason I watch him is because he some some great guests and bands br br I watched the Craig Ferguson show for a while but his show is even worse He likes to bull sh to burn time I don t think either man has much of a future in late night talk shows br br Daily also has the annoying habit of sticking his tongue out to lick his lips He must do this at least 10 times a show I do like the Joe Firstman band Carson Daily needs to lighten up before it is too late</td>\n",
       "    </tr>\n",
       "  </tbody>\n",
       "</table>\n",
       "</div>"
      ],
      "text/plain": [
       "                                                                                                                                                                                                                                                                                                                                                                                                                                                                                                                                                                                                                                                                                                                                                                                                                                                                                                                                                                                                                                                                                                                                                                                                                                                                                                                                                                                                                                                                                                                                                                                                                                                                                                                                                                                                                                                                                         review  \\\n",
       "0                                                                                                                                                                                                                                                                                                                                                                                                                                                                                                                                                                                                                                                                                                                                                                                                                                                                                                                                                                                                                                                                          Okay, I know this does'nt project India in a good light. But the overall theme of the movie is not India, it's Shakti. The power of a warlord, and the power of a mother. The relationship between Nandini and her husband and son swallow you up in their warmth. Then things go terribly wrong. The interaction between Nandini and her father in law - the power of their dysfunctional relationship - and the lives changed by it are the strengths of this movie. Shah Rukh Khan's performance seems to be a mere cameo compared to the believable desperation of Karisma Kapoor. It is easy to get caught up in the love, violence and redemption of lives in this film, and find yourself heaving a sigh of relief and sadness at the climax. The musical interludes are strengths, believable and well done.   \n",
       "1  Despite John Travolta's statements in interviews that this was his favorite role of his career, \"Be Cool\" proves to be a disappointing sequel to 1995's witty and clever \"Get Shorty.\"<br /><br />Travolta delivers a pleasant enough performance in this mildly entertaining film, but ultimately the movie falls flat due to an underdeveloped plot, unlikeable characters, and a surprising lack of chemistry between leads Travolta and Uma Thurman. Although there are some laughs, this unfunny dialog example (which appeared frequently in the trailers) kind of says it all: Thurman: Do you dance? Travolta: Hey, I'm from Brooklyn.<br /><br />The film suggests that everyone in the entertainment business is a gangster or aspires to be one, likening it to organized crime. In \"Get Shorty,\" the premise of a gangster \"going legitimate\" by getting into movies was a clever fish-out-of water idea, but in \"Be Cool,\" it seems the biz has entirely gone crooked since then.<br /><br />The film is interestingly casted and the absolute highlight is a \"monolgue\" delivered by The Rock, whose character is an aspiring actor as well as a goon, where he reenacts a scene between Gabrielle Union and Kirsten Dunst from \"Bring It On.\" Vince Vaughan's character thinks he's black and he's often seen dressed as a pimp-- this was quite funny in the first scene that introduces him and gets tired and embarrassing almost immediately afterward.<br /><br />Overall, \"Be Cool\" may be worth a rental for John Travolta die-hards (of which I am one), but you may want to keep your finger close to the fast forward button to get through it without feeling that you wasted too much time. Fans of \"Get Shorty\" may actually wish to avoid this, as the sequel is devoid of most things that made that one a winner. I rate this movie an admittedly harsh 4/10.   \n",
       "2                                                                                                                                                                                                                                                                                                                                                                                                                                                                                                                                                                                                                                                                                 I am a kung fu fan, but not a Woo fan. I have no interest in gangster movies filled with over-the-top gun-play. Now, martial arts; *that's* beautiful! And John Woo surprised me here by producing a highly entertaining kung fu movie, which almost has *too much* fighting, if such a thing is possible! This is good stuff.<br /><br />Many of the fight scenes are very good (and some of them are less good), and the main characters are amusing and likable. The bad guys are a bit too unbelievably evil, but entertaining none the less. You gotta see the Sleeping Wizard!! He can only fight when he's asleep - it's hysterical!<br /><br />Upon repeated viewings, however, Last Hurrah For Chivalry can tend to get a little boring and long-winded, also especially because many of the fight scenes are actually not that good. Hence, I rate it \"only\" a 7 out of 10. But it really is almost an \"8\".<br /><br />All in all one of the better kung fu movies, made smack-dab in the heart of kung fu cinema's prime. All the really good kung fu movies are from the mid- to late 1970ies, with some notable exceptions from the late '60ies and early '70ies (and early '80ies, to be fair).   \n",
       "3                                                                                                                                                                                                                                                                                                                                                                                                                                                                                                                                                                                                                                                                                                                                                                                                                                                                                                                                                                                                                                                                                                                                             He seems to be a control freak. I have heard him comment on \"losing control of the show\" and tell another guest who brought live animals that he had one rule-\"no snakes.\" He needs to hire a comedy writer because his jokes are lame. The only reason I watch him is because he some some great guests and bands. <br /><br />I watched the Craig Ferguson show for a while but his show is even worse. He likes to bull sh** to burn time.I don't think either man has much of a future in late night talk shows.<br /><br />Daily also has the annoying habit of sticking his tongue out to lick his lips. He must do this at least 10 times a show. I do like the Joe Firstman band. Carson Daily needs to lighten up before it is too late.   \n",
       "\n",
       "                                                                                                                                                                                                                                                                                                                                                                                                                                                                                                                                                                                                                                                                                                                                                                                                                                                                                                                                                                                                                                                                                                                                                                                                                                                                                                                                                                                                                                                                                                                                                                                                                                                                                                                                                                                                           cleaned_text  \n",
       "0                                                                                                                                                                                                                                                                                                                                                                                                                                                                                                                                                                                                                                                                                                                                                                                                                                                                                                                                                                                                                    Okay I know this does nt project India in a good light But the overall theme of the movie is not India it s Shakti The power of a warlord and the power of a mother The relationship between Nandini and her husband and son swallow you up in their warmth Then things go terribly wrong The interaction between Nandini and her father in law the power of their dysfunctional relationship and the lives changed by it are the strengths of this movie Shah Rukh Khan s performance seems to be a mere cameo compared to the believable desperation of Karisma Kapoor It is easy to get caught up in the love violence and redemption of lives in this film and find yourself heaving a sigh of relief and sadness at the climax The musical interludes are strengths believable and well done   \n",
       "1  Despite John Travolta s statements in interviews that this was his favorite role of his career Be Cool proves to be a disappointing sequel to 1995 s witty and clever Get Shorty br br Travolta delivers a pleasant enough performance in this mildly entertaining film but ultimately the movie falls flat due to an underdeveloped plot unlikeable characters and a surprising lack of chemistry between leads Travolta and Uma Thurman Although there are some laughs this unfunny dialog example which appeared frequently in the trailers kind of says it all Thurman Do you dance Travolta Hey I m from Brooklyn br br The film suggests that everyone in the entertainment business is a gangster or aspires to be one likening it to organized crime In Get Shorty the premise of a gangster going legitimate by getting into movies was a clever fish out of water idea but in Be Cool it seems the biz has entirely gone crooked since then br br The film is interestingly casted and the absolute highlight is a monolgue delivered by The Rock whose character is an aspiring actor as well as a goon where he reenacts a scene between Gabrielle Union and Kirsten Dunst from Bring It On Vince Vaughan s character thinks he s black and he s often seen dressed as a pimp this was quite funny in the first scene that introduces him and gets tired and embarrassing almost immediately afterward br br Overall Be Cool may be worth a rental for John Travolta die hards of which I am one but you may want to keep your finger close to the fast forward button to get through it without feeling that you wasted too much time Fans of Get Shorty may actually wish to avoid this as the sequel is devoid of most things that made that one a winner I rate this movie an admittedly harsh 4 10   \n",
       "2                                                                                                                                                                                                                                                                                                                                                                                                                                                                                                                                                                                                                                                                      I am a kung fu fan but not a Woo fan I have no interest in gangster movies filled with over the top gun play Now martial arts that s beautiful And John Woo surprised me here by producing a highly entertaining kung fu movie which almost has too much fighting if such a thing is possible This is good stuff br br Many of the fight scenes are very good and some of them are less good and the main characters are amusing and likable The bad guys are a bit too unbelievably evil but entertaining none the less You gotta see the Sleeping Wizard He can only fight when he s asleep it s hysterical br br Upon repeated viewings however Last Hurrah For Chivalry can tend to get a little boring and long winded also especially because many of the fight scenes are actually not that good Hence I rate it only a 7 out of 10 But it really is almost an 8 br br All in all one of the better kung fu movies made smack dab in the heart of kung fu cinema s prime All the really good kung fu movies are from the mid to late 1970ies with some notable exceptions from the late 60ies and early 70ies and early 80ies to be fair   \n",
       "3                                                                                                                                                                                                                                                                                                                                                                                                                                                                                                                                                                                                                                                                                                                                                                                                                                                                                                                                                                                                                                                                                               He seems to be a control freak I have heard him comment on losing control of the show and tell another guest who brought live animals that he had one rule no snakes He needs to hire a comedy writer because his jokes are lame The only reason I watch him is because he some some great guests and bands br br I watched the Craig Ferguson show for a while but his show is even worse He likes to bull sh to burn time I don t think either man has much of a future in late night talk shows br br Daily also has the annoying habit of sticking his tongue out to lick his lips He must do this at least 10 times a show I do like the Joe Firstman band Carson Daily needs to lighten up before it is too late   "
      ]
     },
     "execution_count": 52,
     "metadata": {},
     "output_type": "execute_result"
    }
   ],
   "source": [
    "# checking a couple of instances of cleaned data\n",
    "data.loc[0:3, ['review','cleaned_text']]"
   ]
  },
  {
   "cell_type": "code",
   "execution_count": 53,
   "metadata": {
    "executionInfo": {
     "elapsed": 51,
     "status": "ok",
     "timestamp": 1749725947490,
     "user": {
      "displayName": "Harish R",
      "userId": "16560730339059888072"
     },
     "user_tz": -330
    },
    "id": "JLOmMLSLRJT0"
   },
   "outputs": [],
   "source": [
    "# changing the case of the text data to lower case\n",
    "data['cleaned_text'] = data['cleaned_text'].str.lower()"
   ]
  },
  {
   "cell_type": "code",
   "execution_count": 54,
   "metadata": {
    "colab": {
     "base_uri": "https://localhost:8080/",
     "height": 0
    },
    "executionInfo": {
     "elapsed": 159,
     "status": "ok",
     "timestamp": 1749725947657,
     "user": {
      "displayName": "Harish R",
      "userId": "16560730339059888072"
     },
     "user_tz": -330
    },
    "id": "P80CyzprdHH1",
    "outputId": "a47f8940-5809-4316-f0fe-af9a468f6ecb"
   },
   "outputs": [
    {
     "data": {
      "text/html": [
       "<div>\n",
       "<style scoped>\n",
       "    .dataframe tbody tr th:only-of-type {\n",
       "        vertical-align: middle;\n",
       "    }\n",
       "\n",
       "    .dataframe tbody tr th {\n",
       "        vertical-align: top;\n",
       "    }\n",
       "\n",
       "    .dataframe thead th {\n",
       "        text-align: right;\n",
       "    }\n",
       "</style>\n",
       "<table border=\"1\" class=\"dataframe\">\n",
       "  <thead>\n",
       "    <tr style=\"text-align: right;\">\n",
       "      <th></th>\n",
       "      <th>review</th>\n",
       "      <th>cleaned_text</th>\n",
       "    </tr>\n",
       "  </thead>\n",
       "  <tbody>\n",
       "    <tr>\n",
       "      <th>0</th>\n",
       "      <td>Okay, I know this does'nt project India in a good light. But the overall theme of the movie is not India, it's Shakti. The power of a warlord, and the power of a mother. The relationship between Nandini and her husband and son swallow you up in their warmth. Then things go terribly wrong. The interaction between Nandini and her father in law - the power of their dysfunctional relationship - and the lives changed by it are the strengths of this movie. Shah Rukh Khan's performance seems to be a mere cameo compared to the believable desperation of Karisma Kapoor. It is easy to get caught up in the love, violence and redemption of lives in this film, and find yourself heaving a sigh of relief and sadness at the climax. The musical interludes are strengths, believable and well done.</td>\n",
       "      <td>okay i know this does nt project india in a good light but the overall theme of the movie is not india it s shakti the power of a warlord and the power of a mother the relationship between nandini and her husband and son swallow you up in their warmth then things go terribly wrong the interaction between nandini and her father in law the power of their dysfunctional relationship and the lives changed by it are the strengths of this movie shah rukh khan s performance seems to be a mere cameo compared to the believable desperation of karisma kapoor it is easy to get caught up in the love violence and redemption of lives in this film and find yourself heaving a sigh of relief and sadness at the climax the musical interludes are strengths believable and well done</td>\n",
       "    </tr>\n",
       "    <tr>\n",
       "      <th>1</th>\n",
       "      <td>Despite John Travolta's statements in interviews that this was his favorite role of his career, \"Be Cool\" proves to be a disappointing sequel to 1995's witty and clever \"Get Shorty.\"&lt;br /&gt;&lt;br /&gt;Travolta delivers a pleasant enough performance in this mildly entertaining film, but ultimately the movie falls flat due to an underdeveloped plot, unlikeable characters, and a surprising lack of chemistry between leads Travolta and Uma Thurman. Although there are some laughs, this unfunny dialog example (which appeared frequently in the trailers) kind of says it all: Thurman: Do you dance? Travolta: Hey, I'm from Brooklyn.&lt;br /&gt;&lt;br /&gt;The film suggests that everyone in the entertainment business is a gangster or aspires to be one, likening it to organized crime. In \"Get Shorty,\" the premise of a gangster \"going legitimate\" by getting into movies was a clever fish-out-of water idea, but in \"Be Cool,\" it seems the biz has entirely gone crooked since then.&lt;br /&gt;&lt;br /&gt;The film is interestingly casted and the absolute highlight is a \"monolgue\" delivered by The Rock, whose character is an aspiring actor as well as a goon, where he reenacts a scene between Gabrielle Union and Kirsten Dunst from \"Bring It On.\" Vince Vaughan's character thinks he's black and he's often seen dressed as a pimp-- this was quite funny in the first scene that introduces him and gets tired and embarrassing almost immediately afterward.&lt;br /&gt;&lt;br /&gt;Overall, \"Be Cool\" may be worth a rental for John Travolta die-hards (of which I am one), but you may want to keep your finger close to the fast forward button to get through it without feeling that you wasted too much time. Fans of \"Get Shorty\" may actually wish to avoid this, as the sequel is devoid of most things that made that one a winner. I rate this movie an admittedly harsh 4/10.</td>\n",
       "      <td>despite john travolta s statements in interviews that this was his favorite role of his career be cool proves to be a disappointing sequel to 1995 s witty and clever get shorty br br travolta delivers a pleasant enough performance in this mildly entertaining film but ultimately the movie falls flat due to an underdeveloped plot unlikeable characters and a surprising lack of chemistry between leads travolta and uma thurman although there are some laughs this unfunny dialog example which appeared frequently in the trailers kind of says it all thurman do you dance travolta hey i m from brooklyn br br the film suggests that everyone in the entertainment business is a gangster or aspires to be one likening it to organized crime in get shorty the premise of a gangster going legitimate by getting into movies was a clever fish out of water idea but in be cool it seems the biz has entirely gone crooked since then br br the film is interestingly casted and the absolute highlight is a monolgue delivered by the rock whose character is an aspiring actor as well as a goon where he reenacts a scene between gabrielle union and kirsten dunst from bring it on vince vaughan s character thinks he s black and he s often seen dressed as a pimp this was quite funny in the first scene that introduces him and gets tired and embarrassing almost immediately afterward br br overall be cool may be worth a rental for john travolta die hards of which i am one but you may want to keep your finger close to the fast forward button to get through it without feeling that you wasted too much time fans of get shorty may actually wish to avoid this as the sequel is devoid of most things that made that one a winner i rate this movie an admittedly harsh 4 10</td>\n",
       "    </tr>\n",
       "    <tr>\n",
       "      <th>2</th>\n",
       "      <td>I am a kung fu fan, but not a Woo fan. I have no interest in gangster movies filled with over-the-top gun-play. Now, martial arts; *that's* beautiful! And John Woo surprised me here by producing a highly entertaining kung fu movie, which almost has *too much* fighting, if such a thing is possible! This is good stuff.&lt;br /&gt;&lt;br /&gt;Many of the fight scenes are very good (and some of them are less good), and the main characters are amusing and likable. The bad guys are a bit too unbelievably evil, but entertaining none the less. You gotta see the Sleeping Wizard!! He can only fight when he's asleep - it's hysterical!&lt;br /&gt;&lt;br /&gt;Upon repeated viewings, however, Last Hurrah For Chivalry can tend to get a little boring and long-winded, also especially because many of the fight scenes are actually not that good. Hence, I rate it \"only\" a 7 out of 10. But it really is almost an \"8\".&lt;br /&gt;&lt;br /&gt;All in all one of the better kung fu movies, made smack-dab in the heart of kung fu cinema's prime. All the really good kung fu movies are from the mid- to late 1970ies, with some notable exceptions from the late '60ies and early '70ies (and early '80ies, to be fair).</td>\n",
       "      <td>i am a kung fu fan but not a woo fan i have no interest in gangster movies filled with over the top gun play now martial arts that s beautiful and john woo surprised me here by producing a highly entertaining kung fu movie which almost has too much fighting if such a thing is possible this is good stuff br br many of the fight scenes are very good and some of them are less good and the main characters are amusing and likable the bad guys are a bit too unbelievably evil but entertaining none the less you gotta see the sleeping wizard he can only fight when he s asleep it s hysterical br br upon repeated viewings however last hurrah for chivalry can tend to get a little boring and long winded also especially because many of the fight scenes are actually not that good hence i rate it only a 7 out of 10 but it really is almost an 8 br br all in all one of the better kung fu movies made smack dab in the heart of kung fu cinema s prime all the really good kung fu movies are from the mid to late 1970ies with some notable exceptions from the late 60ies and early 70ies and early 80ies to be fair</td>\n",
       "    </tr>\n",
       "    <tr>\n",
       "      <th>3</th>\n",
       "      <td>He seems to be a control freak. I have heard him comment on \"losing control of the show\" and tell another guest who brought live animals that he had one rule-\"no snakes.\" He needs to hire a comedy writer because his jokes are lame. The only reason I watch him is because he some some great guests and bands. &lt;br /&gt;&lt;br /&gt;I watched the Craig Ferguson show for a while but his show is even worse. He likes to bull sh** to burn time.I don't think either man has much of a future in late night talk shows.&lt;br /&gt;&lt;br /&gt;Daily also has the annoying habit of sticking his tongue out to lick his lips. He must do this at least 10 times a show. I do like the Joe Firstman band. Carson Daily needs to lighten up before it is too late.</td>\n",
       "      <td>he seems to be a control freak i have heard him comment on losing control of the show and tell another guest who brought live animals that he had one rule no snakes he needs to hire a comedy writer because his jokes are lame the only reason i watch him is because he some some great guests and bands br br i watched the craig ferguson show for a while but his show is even worse he likes to bull sh to burn time i don t think either man has much of a future in late night talk shows br br daily also has the annoying habit of sticking his tongue out to lick his lips he must do this at least 10 times a show i do like the joe firstman band carson daily needs to lighten up before it is too late</td>\n",
       "    </tr>\n",
       "  </tbody>\n",
       "</table>\n",
       "</div>"
      ],
      "text/plain": [
       "                                                                                                                                                                                                                                                                                                                                                                                                                                                                                                                                                                                                                                                                                                                                                                                                                                                                                                                                                                                                                                                                                                                                                                                                                                                                                                                                                                                                                                                                                                                                                                                                                                                                                                                                                                                                                                                                                         review  \\\n",
       "0                                                                                                                                                                                                                                                                                                                                                                                                                                                                                                                                                                                                                                                                                                                                                                                                                                                                                                                                                                                                                                                                          Okay, I know this does'nt project India in a good light. But the overall theme of the movie is not India, it's Shakti. The power of a warlord, and the power of a mother. The relationship between Nandini and her husband and son swallow you up in their warmth. Then things go terribly wrong. The interaction between Nandini and her father in law - the power of their dysfunctional relationship - and the lives changed by it are the strengths of this movie. Shah Rukh Khan's performance seems to be a mere cameo compared to the believable desperation of Karisma Kapoor. It is easy to get caught up in the love, violence and redemption of lives in this film, and find yourself heaving a sigh of relief and sadness at the climax. The musical interludes are strengths, believable and well done.   \n",
       "1  Despite John Travolta's statements in interviews that this was his favorite role of his career, \"Be Cool\" proves to be a disappointing sequel to 1995's witty and clever \"Get Shorty.\"<br /><br />Travolta delivers a pleasant enough performance in this mildly entertaining film, but ultimately the movie falls flat due to an underdeveloped plot, unlikeable characters, and a surprising lack of chemistry between leads Travolta and Uma Thurman. Although there are some laughs, this unfunny dialog example (which appeared frequently in the trailers) kind of says it all: Thurman: Do you dance? Travolta: Hey, I'm from Brooklyn.<br /><br />The film suggests that everyone in the entertainment business is a gangster or aspires to be one, likening it to organized crime. In \"Get Shorty,\" the premise of a gangster \"going legitimate\" by getting into movies was a clever fish-out-of water idea, but in \"Be Cool,\" it seems the biz has entirely gone crooked since then.<br /><br />The film is interestingly casted and the absolute highlight is a \"monolgue\" delivered by The Rock, whose character is an aspiring actor as well as a goon, where he reenacts a scene between Gabrielle Union and Kirsten Dunst from \"Bring It On.\" Vince Vaughan's character thinks he's black and he's often seen dressed as a pimp-- this was quite funny in the first scene that introduces him and gets tired and embarrassing almost immediately afterward.<br /><br />Overall, \"Be Cool\" may be worth a rental for John Travolta die-hards (of which I am one), but you may want to keep your finger close to the fast forward button to get through it without feeling that you wasted too much time. Fans of \"Get Shorty\" may actually wish to avoid this, as the sequel is devoid of most things that made that one a winner. I rate this movie an admittedly harsh 4/10.   \n",
       "2                                                                                                                                                                                                                                                                                                                                                                                                                                                                                                                                                                                                                                                                                 I am a kung fu fan, but not a Woo fan. I have no interest in gangster movies filled with over-the-top gun-play. Now, martial arts; *that's* beautiful! And John Woo surprised me here by producing a highly entertaining kung fu movie, which almost has *too much* fighting, if such a thing is possible! This is good stuff.<br /><br />Many of the fight scenes are very good (and some of them are less good), and the main characters are amusing and likable. The bad guys are a bit too unbelievably evil, but entertaining none the less. You gotta see the Sleeping Wizard!! He can only fight when he's asleep - it's hysterical!<br /><br />Upon repeated viewings, however, Last Hurrah For Chivalry can tend to get a little boring and long-winded, also especially because many of the fight scenes are actually not that good. Hence, I rate it \"only\" a 7 out of 10. But it really is almost an \"8\".<br /><br />All in all one of the better kung fu movies, made smack-dab in the heart of kung fu cinema's prime. All the really good kung fu movies are from the mid- to late 1970ies, with some notable exceptions from the late '60ies and early '70ies (and early '80ies, to be fair).   \n",
       "3                                                                                                                                                                                                                                                                                                                                                                                                                                                                                                                                                                                                                                                                                                                                                                                                                                                                                                                                                                                                                                                                                                                                             He seems to be a control freak. I have heard him comment on \"losing control of the show\" and tell another guest who brought live animals that he had one rule-\"no snakes.\" He needs to hire a comedy writer because his jokes are lame. The only reason I watch him is because he some some great guests and bands. <br /><br />I watched the Craig Ferguson show for a while but his show is even worse. He likes to bull sh** to burn time.I don't think either man has much of a future in late night talk shows.<br /><br />Daily also has the annoying habit of sticking his tongue out to lick his lips. He must do this at least 10 times a show. I do like the Joe Firstman band. Carson Daily needs to lighten up before it is too late.   \n",
       "\n",
       "                                                                                                                                                                                                                                                                                                                                                                                                                                                                                                                                                                                                                                                                                                                                                                                                                                                                                                                                                                                                                                                                                                                                                                                                                                                                                                                                                                                                                                                                                                                                                                                                                                                                                                                                                                                                           cleaned_text  \n",
       "0                                                                                                                                                                                                                                                                                                                                                                                                                                                                                                                                                                                                                                                                                                                                                                                                                                                                                                                                                                                                                    okay i know this does nt project india in a good light but the overall theme of the movie is not india it s shakti the power of a warlord and the power of a mother the relationship between nandini and her husband and son swallow you up in their warmth then things go terribly wrong the interaction between nandini and her father in law the power of their dysfunctional relationship and the lives changed by it are the strengths of this movie shah rukh khan s performance seems to be a mere cameo compared to the believable desperation of karisma kapoor it is easy to get caught up in the love violence and redemption of lives in this film and find yourself heaving a sigh of relief and sadness at the climax the musical interludes are strengths believable and well done   \n",
       "1  despite john travolta s statements in interviews that this was his favorite role of his career be cool proves to be a disappointing sequel to 1995 s witty and clever get shorty br br travolta delivers a pleasant enough performance in this mildly entertaining film but ultimately the movie falls flat due to an underdeveloped plot unlikeable characters and a surprising lack of chemistry between leads travolta and uma thurman although there are some laughs this unfunny dialog example which appeared frequently in the trailers kind of says it all thurman do you dance travolta hey i m from brooklyn br br the film suggests that everyone in the entertainment business is a gangster or aspires to be one likening it to organized crime in get shorty the premise of a gangster going legitimate by getting into movies was a clever fish out of water idea but in be cool it seems the biz has entirely gone crooked since then br br the film is interestingly casted and the absolute highlight is a monolgue delivered by the rock whose character is an aspiring actor as well as a goon where he reenacts a scene between gabrielle union and kirsten dunst from bring it on vince vaughan s character thinks he s black and he s often seen dressed as a pimp this was quite funny in the first scene that introduces him and gets tired and embarrassing almost immediately afterward br br overall be cool may be worth a rental for john travolta die hards of which i am one but you may want to keep your finger close to the fast forward button to get through it without feeling that you wasted too much time fans of get shorty may actually wish to avoid this as the sequel is devoid of most things that made that one a winner i rate this movie an admittedly harsh 4 10   \n",
       "2                                                                                                                                                                                                                                                                                                                                                                                                                                                                                                                                                                                                                                                                      i am a kung fu fan but not a woo fan i have no interest in gangster movies filled with over the top gun play now martial arts that s beautiful and john woo surprised me here by producing a highly entertaining kung fu movie which almost has too much fighting if such a thing is possible this is good stuff br br many of the fight scenes are very good and some of them are less good and the main characters are amusing and likable the bad guys are a bit too unbelievably evil but entertaining none the less you gotta see the sleeping wizard he can only fight when he s asleep it s hysterical br br upon repeated viewings however last hurrah for chivalry can tend to get a little boring and long winded also especially because many of the fight scenes are actually not that good hence i rate it only a 7 out of 10 but it really is almost an 8 br br all in all one of the better kung fu movies made smack dab in the heart of kung fu cinema s prime all the really good kung fu movies are from the mid to late 1970ies with some notable exceptions from the late 60ies and early 70ies and early 80ies to be fair   \n",
       "3                                                                                                                                                                                                                                                                                                                                                                                                                                                                                                                                                                                                                                                                                                                                                                                                                                                                                                                                                                                                                                                                                               he seems to be a control freak i have heard him comment on losing control of the show and tell another guest who brought live animals that he had one rule no snakes he needs to hire a comedy writer because his jokes are lame the only reason i watch him is because he some some great guests and bands br br i watched the craig ferguson show for a while but his show is even worse he likes to bull sh to burn time i don t think either man has much of a future in late night talk shows br br daily also has the annoying habit of sticking his tongue out to lick his lips he must do this at least 10 times a show i do like the joe firstman band carson daily needs to lighten up before it is too late   "
      ]
     },
     "execution_count": 54,
     "metadata": {},
     "output_type": "execute_result"
    }
   ],
   "source": [
    "# checking a couple of instances of cleaned data\n",
    "data.loc[0:3, ['review','cleaned_text']]"
   ]
  },
  {
   "cell_type": "code",
   "execution_count": 55,
   "metadata": {
    "executionInfo": {
     "elapsed": 1,
     "status": "ok",
     "timestamp": 1749725947678,
     "user": {
      "displayName": "Harish R",
      "userId": "16560730339059888072"
     },
     "user_tz": -330
    },
    "id": "CjJN53m8RWCW"
   },
   "outputs": [],
   "source": [
    "# removing extra whitespaces from the text\n",
    "data['cleaned_text'] = data['cleaned_text'].str.strip()"
   ]
  },
  {
   "cell_type": "code",
   "execution_count": 56,
   "metadata": {
    "colab": {
     "base_uri": "https://localhost:8080/",
     "height": 0
    },
    "executionInfo": {
     "elapsed": 81,
     "status": "ok",
     "timestamp": 1749725947760,
     "user": {
      "displayName": "Harish R",
      "userId": "16560730339059888072"
     },
     "user_tz": -330
    },
    "id": "yCx3mBXiHRax",
    "outputId": "da6da307-2fa8-4627-8dcf-f31573e96f06"
   },
   "outputs": [
    {
     "data": {
      "text/html": [
       "<div>\n",
       "<style scoped>\n",
       "    .dataframe tbody tr th:only-of-type {\n",
       "        vertical-align: middle;\n",
       "    }\n",
       "\n",
       "    .dataframe tbody tr th {\n",
       "        vertical-align: top;\n",
       "    }\n",
       "\n",
       "    .dataframe thead th {\n",
       "        text-align: right;\n",
       "    }\n",
       "</style>\n",
       "<table border=\"1\" class=\"dataframe\">\n",
       "  <thead>\n",
       "    <tr style=\"text-align: right;\">\n",
       "      <th></th>\n",
       "      <th>review</th>\n",
       "      <th>cleaned_text</th>\n",
       "    </tr>\n",
       "  </thead>\n",
       "  <tbody>\n",
       "    <tr>\n",
       "      <th>0</th>\n",
       "      <td>Okay, I know this does'nt project India in a good light. But the overall theme of the movie is not India, it's Shakti. The power of a warlord, and the power of a mother. The relationship between Nandini and her husband and son swallow you up in their warmth. Then things go terribly wrong. The interaction between Nandini and her father in law - the power of their dysfunctional relationship - and the lives changed by it are the strengths of this movie. Shah Rukh Khan's performance seems to be a mere cameo compared to the believable desperation of Karisma Kapoor. It is easy to get caught up in the love, violence and redemption of lives in this film, and find yourself heaving a sigh of relief and sadness at the climax. The musical interludes are strengths, believable and well done.</td>\n",
       "      <td>okay i know this does nt project india in a good light but the overall theme of the movie is not india it s shakti the power of a warlord and the power of a mother the relationship between nandini and her husband and son swallow you up in their warmth then things go terribly wrong the interaction between nandini and her father in law the power of their dysfunctional relationship and the lives changed by it are the strengths of this movie shah rukh khan s performance seems to be a mere cameo compared to the believable desperation of karisma kapoor it is easy to get caught up in the love violence and redemption of lives in this film and find yourself heaving a sigh of relief and sadness at the climax the musical interludes are strengths believable and well done</td>\n",
       "    </tr>\n",
       "    <tr>\n",
       "      <th>1</th>\n",
       "      <td>Despite John Travolta's statements in interviews that this was his favorite role of his career, \"Be Cool\" proves to be a disappointing sequel to 1995's witty and clever \"Get Shorty.\"&lt;br /&gt;&lt;br /&gt;Travolta delivers a pleasant enough performance in this mildly entertaining film, but ultimately the movie falls flat due to an underdeveloped plot, unlikeable characters, and a surprising lack of chemistry between leads Travolta and Uma Thurman. Although there are some laughs, this unfunny dialog example (which appeared frequently in the trailers) kind of says it all: Thurman: Do you dance? Travolta: Hey, I'm from Brooklyn.&lt;br /&gt;&lt;br /&gt;The film suggests that everyone in the entertainment business is a gangster or aspires to be one, likening it to organized crime. In \"Get Shorty,\" the premise of a gangster \"going legitimate\" by getting into movies was a clever fish-out-of water idea, but in \"Be Cool,\" it seems the biz has entirely gone crooked since then.&lt;br /&gt;&lt;br /&gt;The film is interestingly casted and the absolute highlight is a \"monolgue\" delivered by The Rock, whose character is an aspiring actor as well as a goon, where he reenacts a scene between Gabrielle Union and Kirsten Dunst from \"Bring It On.\" Vince Vaughan's character thinks he's black and he's often seen dressed as a pimp-- this was quite funny in the first scene that introduces him and gets tired and embarrassing almost immediately afterward.&lt;br /&gt;&lt;br /&gt;Overall, \"Be Cool\" may be worth a rental for John Travolta die-hards (of which I am one), but you may want to keep your finger close to the fast forward button to get through it without feeling that you wasted too much time. Fans of \"Get Shorty\" may actually wish to avoid this, as the sequel is devoid of most things that made that one a winner. I rate this movie an admittedly harsh 4/10.</td>\n",
       "      <td>despite john travolta s statements in interviews that this was his favorite role of his career be cool proves to be a disappointing sequel to 1995 s witty and clever get shorty br br travolta delivers a pleasant enough performance in this mildly entertaining film but ultimately the movie falls flat due to an underdeveloped plot unlikeable characters and a surprising lack of chemistry between leads travolta and uma thurman although there are some laughs this unfunny dialog example which appeared frequently in the trailers kind of says it all thurman do you dance travolta hey i m from brooklyn br br the film suggests that everyone in the entertainment business is a gangster or aspires to be one likening it to organized crime in get shorty the premise of a gangster going legitimate by getting into movies was a clever fish out of water idea but in be cool it seems the biz has entirely gone crooked since then br br the film is interestingly casted and the absolute highlight is a monolgue delivered by the rock whose character is an aspiring actor as well as a goon where he reenacts a scene between gabrielle union and kirsten dunst from bring it on vince vaughan s character thinks he s black and he s often seen dressed as a pimp this was quite funny in the first scene that introduces him and gets tired and embarrassing almost immediately afterward br br overall be cool may be worth a rental for john travolta die hards of which i am one but you may want to keep your finger close to the fast forward button to get through it without feeling that you wasted too much time fans of get shorty may actually wish to avoid this as the sequel is devoid of most things that made that one a winner i rate this movie an admittedly harsh 4 10</td>\n",
       "    </tr>\n",
       "    <tr>\n",
       "      <th>2</th>\n",
       "      <td>I am a kung fu fan, but not a Woo fan. I have no interest in gangster movies filled with over-the-top gun-play. Now, martial arts; *that's* beautiful! And John Woo surprised me here by producing a highly entertaining kung fu movie, which almost has *too much* fighting, if such a thing is possible! This is good stuff.&lt;br /&gt;&lt;br /&gt;Many of the fight scenes are very good (and some of them are less good), and the main characters are amusing and likable. The bad guys are a bit too unbelievably evil, but entertaining none the less. You gotta see the Sleeping Wizard!! He can only fight when he's asleep - it's hysterical!&lt;br /&gt;&lt;br /&gt;Upon repeated viewings, however, Last Hurrah For Chivalry can tend to get a little boring and long-winded, also especially because many of the fight scenes are actually not that good. Hence, I rate it \"only\" a 7 out of 10. But it really is almost an \"8\".&lt;br /&gt;&lt;br /&gt;All in all one of the better kung fu movies, made smack-dab in the heart of kung fu cinema's prime. All the really good kung fu movies are from the mid- to late 1970ies, with some notable exceptions from the late '60ies and early '70ies (and early '80ies, to be fair).</td>\n",
       "      <td>i am a kung fu fan but not a woo fan i have no interest in gangster movies filled with over the top gun play now martial arts that s beautiful and john woo surprised me here by producing a highly entertaining kung fu movie which almost has too much fighting if such a thing is possible this is good stuff br br many of the fight scenes are very good and some of them are less good and the main characters are amusing and likable the bad guys are a bit too unbelievably evil but entertaining none the less you gotta see the sleeping wizard he can only fight when he s asleep it s hysterical br br upon repeated viewings however last hurrah for chivalry can tend to get a little boring and long winded also especially because many of the fight scenes are actually not that good hence i rate it only a 7 out of 10 but it really is almost an 8 br br all in all one of the better kung fu movies made smack dab in the heart of kung fu cinema s prime all the really good kung fu movies are from the mid to late 1970ies with some notable exceptions from the late 60ies and early 70ies and early 80ies to be fair</td>\n",
       "    </tr>\n",
       "    <tr>\n",
       "      <th>3</th>\n",
       "      <td>He seems to be a control freak. I have heard him comment on \"losing control of the show\" and tell another guest who brought live animals that he had one rule-\"no snakes.\" He needs to hire a comedy writer because his jokes are lame. The only reason I watch him is because he some some great guests and bands. &lt;br /&gt;&lt;br /&gt;I watched the Craig Ferguson show for a while but his show is even worse. He likes to bull sh** to burn time.I don't think either man has much of a future in late night talk shows.&lt;br /&gt;&lt;br /&gt;Daily also has the annoying habit of sticking his tongue out to lick his lips. He must do this at least 10 times a show. I do like the Joe Firstman band. Carson Daily needs to lighten up before it is too late.</td>\n",
       "      <td>he seems to be a control freak i have heard him comment on losing control of the show and tell another guest who brought live animals that he had one rule no snakes he needs to hire a comedy writer because his jokes are lame the only reason i watch him is because he some some great guests and bands br br i watched the craig ferguson show for a while but his show is even worse he likes to bull sh to burn time i don t think either man has much of a future in late night talk shows br br daily also has the annoying habit of sticking his tongue out to lick his lips he must do this at least 10 times a show i do like the joe firstman band carson daily needs to lighten up before it is too late</td>\n",
       "    </tr>\n",
       "  </tbody>\n",
       "</table>\n",
       "</div>"
      ],
      "text/plain": [
       "                                                                                                                                                                                                                                                                                                                                                                                                                                                                                                                                                                                                                                                                                                                                                                                                                                                                                                                                                                                                                                                                                                                                                                                                                                                                                                                                                                                                                                                                                                                                                                                                                                                                                                                                                                                                                                                                                         review  \\\n",
       "0                                                                                                                                                                                                                                                                                                                                                                                                                                                                                                                                                                                                                                                                                                                                                                                                                                                                                                                                                                                                                                                                          Okay, I know this does'nt project India in a good light. But the overall theme of the movie is not India, it's Shakti. The power of a warlord, and the power of a mother. The relationship between Nandini and her husband and son swallow you up in their warmth. Then things go terribly wrong. The interaction between Nandini and her father in law - the power of their dysfunctional relationship - and the lives changed by it are the strengths of this movie. Shah Rukh Khan's performance seems to be a mere cameo compared to the believable desperation of Karisma Kapoor. It is easy to get caught up in the love, violence and redemption of lives in this film, and find yourself heaving a sigh of relief and sadness at the climax. The musical interludes are strengths, believable and well done.   \n",
       "1  Despite John Travolta's statements in interviews that this was his favorite role of his career, \"Be Cool\" proves to be a disappointing sequel to 1995's witty and clever \"Get Shorty.\"<br /><br />Travolta delivers a pleasant enough performance in this mildly entertaining film, but ultimately the movie falls flat due to an underdeveloped plot, unlikeable characters, and a surprising lack of chemistry between leads Travolta and Uma Thurman. Although there are some laughs, this unfunny dialog example (which appeared frequently in the trailers) kind of says it all: Thurman: Do you dance? Travolta: Hey, I'm from Brooklyn.<br /><br />The film suggests that everyone in the entertainment business is a gangster or aspires to be one, likening it to organized crime. In \"Get Shorty,\" the premise of a gangster \"going legitimate\" by getting into movies was a clever fish-out-of water idea, but in \"Be Cool,\" it seems the biz has entirely gone crooked since then.<br /><br />The film is interestingly casted and the absolute highlight is a \"monolgue\" delivered by The Rock, whose character is an aspiring actor as well as a goon, where he reenacts a scene between Gabrielle Union and Kirsten Dunst from \"Bring It On.\" Vince Vaughan's character thinks he's black and he's often seen dressed as a pimp-- this was quite funny in the first scene that introduces him and gets tired and embarrassing almost immediately afterward.<br /><br />Overall, \"Be Cool\" may be worth a rental for John Travolta die-hards (of which I am one), but you may want to keep your finger close to the fast forward button to get through it without feeling that you wasted too much time. Fans of \"Get Shorty\" may actually wish to avoid this, as the sequel is devoid of most things that made that one a winner. I rate this movie an admittedly harsh 4/10.   \n",
       "2                                                                                                                                                                                                                                                                                                                                                                                                                                                                                                                                                                                                                                                                                 I am a kung fu fan, but not a Woo fan. I have no interest in gangster movies filled with over-the-top gun-play. Now, martial arts; *that's* beautiful! And John Woo surprised me here by producing a highly entertaining kung fu movie, which almost has *too much* fighting, if such a thing is possible! This is good stuff.<br /><br />Many of the fight scenes are very good (and some of them are less good), and the main characters are amusing and likable. The bad guys are a bit too unbelievably evil, but entertaining none the less. You gotta see the Sleeping Wizard!! He can only fight when he's asleep - it's hysterical!<br /><br />Upon repeated viewings, however, Last Hurrah For Chivalry can tend to get a little boring and long-winded, also especially because many of the fight scenes are actually not that good. Hence, I rate it \"only\" a 7 out of 10. But it really is almost an \"8\".<br /><br />All in all one of the better kung fu movies, made smack-dab in the heart of kung fu cinema's prime. All the really good kung fu movies are from the mid- to late 1970ies, with some notable exceptions from the late '60ies and early '70ies (and early '80ies, to be fair).   \n",
       "3                                                                                                                                                                                                                                                                                                                                                                                                                                                                                                                                                                                                                                                                                                                                                                                                                                                                                                                                                                                                                                                                                                                                             He seems to be a control freak. I have heard him comment on \"losing control of the show\" and tell another guest who brought live animals that he had one rule-\"no snakes.\" He needs to hire a comedy writer because his jokes are lame. The only reason I watch him is because he some some great guests and bands. <br /><br />I watched the Craig Ferguson show for a while but his show is even worse. He likes to bull sh** to burn time.I don't think either man has much of a future in late night talk shows.<br /><br />Daily also has the annoying habit of sticking his tongue out to lick his lips. He must do this at least 10 times a show. I do like the Joe Firstman band. Carson Daily needs to lighten up before it is too late.   \n",
       "\n",
       "                                                                                                                                                                                                                                                                                                                                                                                                                                                                                                                                                                                                                                                                                                                                                                                                                                                                                                                                                                                                                                                                                                                                                                                                                                                                                                                                                                                                                                                                                                                                                                                                                                                                                                                                                                                                          cleaned_text  \n",
       "0                                                                                                                                                                                                                                                                                                                                                                                                                                                                                                                                                                                                                                                                                                                                                                                                                                                                                                                                                                                                                    okay i know this does nt project india in a good light but the overall theme of the movie is not india it s shakti the power of a warlord and the power of a mother the relationship between nandini and her husband and son swallow you up in their warmth then things go terribly wrong the interaction between nandini and her father in law the power of their dysfunctional relationship and the lives changed by it are the strengths of this movie shah rukh khan s performance seems to be a mere cameo compared to the believable desperation of karisma kapoor it is easy to get caught up in the love violence and redemption of lives in this film and find yourself heaving a sigh of relief and sadness at the climax the musical interludes are strengths believable and well done  \n",
       "1  despite john travolta s statements in interviews that this was his favorite role of his career be cool proves to be a disappointing sequel to 1995 s witty and clever get shorty br br travolta delivers a pleasant enough performance in this mildly entertaining film but ultimately the movie falls flat due to an underdeveloped plot unlikeable characters and a surprising lack of chemistry between leads travolta and uma thurman although there are some laughs this unfunny dialog example which appeared frequently in the trailers kind of says it all thurman do you dance travolta hey i m from brooklyn br br the film suggests that everyone in the entertainment business is a gangster or aspires to be one likening it to organized crime in get shorty the premise of a gangster going legitimate by getting into movies was a clever fish out of water idea but in be cool it seems the biz has entirely gone crooked since then br br the film is interestingly casted and the absolute highlight is a monolgue delivered by the rock whose character is an aspiring actor as well as a goon where he reenacts a scene between gabrielle union and kirsten dunst from bring it on vince vaughan s character thinks he s black and he s often seen dressed as a pimp this was quite funny in the first scene that introduces him and gets tired and embarrassing almost immediately afterward br br overall be cool may be worth a rental for john travolta die hards of which i am one but you may want to keep your finger close to the fast forward button to get through it without feeling that you wasted too much time fans of get shorty may actually wish to avoid this as the sequel is devoid of most things that made that one a winner i rate this movie an admittedly harsh 4 10  \n",
       "2                                                                                                                                                                                                                                                                                                                                                                                                                                                                                                                                                                                                                                                                      i am a kung fu fan but not a woo fan i have no interest in gangster movies filled with over the top gun play now martial arts that s beautiful and john woo surprised me here by producing a highly entertaining kung fu movie which almost has too much fighting if such a thing is possible this is good stuff br br many of the fight scenes are very good and some of them are less good and the main characters are amusing and likable the bad guys are a bit too unbelievably evil but entertaining none the less you gotta see the sleeping wizard he can only fight when he s asleep it s hysterical br br upon repeated viewings however last hurrah for chivalry can tend to get a little boring and long winded also especially because many of the fight scenes are actually not that good hence i rate it only a 7 out of 10 but it really is almost an 8 br br all in all one of the better kung fu movies made smack dab in the heart of kung fu cinema s prime all the really good kung fu movies are from the mid to late 1970ies with some notable exceptions from the late 60ies and early 70ies and early 80ies to be fair  \n",
       "3                                                                                                                                                                                                                                                                                                                                                                                                                                                                                                                                                                                                                                                                                                                                                                                                                                                                                                                                                                                                                                                                                               he seems to be a control freak i have heard him comment on losing control of the show and tell another guest who brought live animals that he had one rule no snakes he needs to hire a comedy writer because his jokes are lame the only reason i watch him is because he some some great guests and bands br br i watched the craig ferguson show for a while but his show is even worse he likes to bull sh to burn time i don t think either man has much of a future in late night talk shows br br daily also has the annoying habit of sticking his tongue out to lick his lips he must do this at least 10 times a show i do like the joe firstman band carson daily needs to lighten up before it is too late  "
      ]
     },
     "execution_count": 56,
     "metadata": {},
     "output_type": "execute_result"
    }
   ],
   "source": [
    "# checking a couple of instances of cleaned data\n",
    "data.loc[0:3, ['review','cleaned_text']]"
   ]
  },
  {
   "cell_type": "code",
   "execution_count": 57,
   "metadata": {
    "executionInfo": {
     "elapsed": 7,
     "status": "ok",
     "timestamp": 1749725955181,
     "user": {
      "displayName": "Harish R",
      "userId": "16560730339059888072"
     },
     "user_tz": -330
    },
    "id": "Zof2x5co2X8g"
   },
   "outputs": [],
   "source": [
    "# defining a function to remove stop words using the NLTK library\n",
    "def remove_stopwords(text):\n",
    "    # Split text into separate words\n",
    "    words = text.split()\n",
    "\n",
    "    # Removing English language stopwords\n",
    "    new_text = ' '.join([word for word in words if word not in stopwords.words('english')])\n",
    "\n",
    "    return new_text"
   ]
  },
  {
   "cell_type": "code",
   "execution_count": 58,
   "metadata": {
    "executionInfo": {
     "elapsed": 226608,
     "status": "ok",
     "timestamp": 1749726181793,
     "user": {
      "displayName": "Harish R",
      "userId": "16560730339059888072"
     },
     "user_tz": -330
    },
    "id": "XtmKZqDwfOlt"
   },
   "outputs": [],
   "source": [
    "# Applying the function to remove stop words using the NLTK library\n",
    "data['cleaned_text_without_stopwords'] = data['cleaned_text'].apply(remove_stopwords)"
   ]
  },
  {
   "cell_type": "code",
   "execution_count": 59,
   "metadata": {
    "colab": {
     "base_uri": "https://localhost:8080/",
     "height": 1000
    },
    "executionInfo": {
     "elapsed": 24,
     "status": "ok",
     "timestamp": 1749726181822,
     "user": {
      "displayName": "Harish R",
      "userId": "16560730339059888072"
     },
     "user_tz": -330
    },
    "id": "zikSkmBDfsu9",
    "outputId": "ee2a128c-1a6e-4ae0-fa6b-33d706b62d11"
   },
   "outputs": [
    {
     "data": {
      "text/html": [
       "<div>\n",
       "<style scoped>\n",
       "    .dataframe tbody tr th:only-of-type {\n",
       "        vertical-align: middle;\n",
       "    }\n",
       "\n",
       "    .dataframe tbody tr th {\n",
       "        vertical-align: top;\n",
       "    }\n",
       "\n",
       "    .dataframe thead th {\n",
       "        text-align: right;\n",
       "    }\n",
       "</style>\n",
       "<table border=\"1\" class=\"dataframe\">\n",
       "  <thead>\n",
       "    <tr style=\"text-align: right;\">\n",
       "      <th></th>\n",
       "      <th>cleaned_text</th>\n",
       "      <th>cleaned_text_without_stopwords</th>\n",
       "    </tr>\n",
       "  </thead>\n",
       "  <tbody>\n",
       "    <tr>\n",
       "      <th>0</th>\n",
       "      <td>okay i know this does nt project india in a good light but the overall theme of the movie is not india it s shakti the power of a warlord and the power of a mother the relationship between nandini and her husband and son swallow you up in their warmth then things go terribly wrong the interaction between nandini and her father in law the power of their dysfunctional relationship and the lives changed by it are the strengths of this movie shah rukh khan s performance seems to be a mere cameo compared to the believable desperation of karisma kapoor it is easy to get caught up in the love violence and redemption of lives in this film and find yourself heaving a sigh of relief and sadness at the climax the musical interludes are strengths believable and well done</td>\n",
       "      <td>okay know nt project india good light overall theme movie india shakti power warlord power mother relationship nandini husband son swallow warmth things go terribly wrong interaction nandini father law power dysfunctional relationship lives changed strengths movie shah rukh khan performance seems mere cameo compared believable desperation karisma kapoor easy get caught love violence redemption lives film find heaving sigh relief sadness climax musical interludes strengths believable well done</td>\n",
       "    </tr>\n",
       "    <tr>\n",
       "      <th>1</th>\n",
       "      <td>despite john travolta s statements in interviews that this was his favorite role of his career be cool proves to be a disappointing sequel to 1995 s witty and clever get shorty br br travolta delivers a pleasant enough performance in this mildly entertaining film but ultimately the movie falls flat due to an underdeveloped plot unlikeable characters and a surprising lack of chemistry between leads travolta and uma thurman although there are some laughs this unfunny dialog example which appeared frequently in the trailers kind of says it all thurman do you dance travolta hey i m from brooklyn br br the film suggests that everyone in the entertainment business is a gangster or aspires to be one likening it to organized crime in get shorty the premise of a gangster going legitimate by getting into movies was a clever fish out of water idea but in be cool it seems the biz has entirely gone crooked since then br br the film is interestingly casted and the absolute highlight is a monolgue delivered by the rock whose character is an aspiring actor as well as a goon where he reenacts a scene between gabrielle union and kirsten dunst from bring it on vince vaughan s character thinks he s black and he s often seen dressed as a pimp this was quite funny in the first scene that introduces him and gets tired and embarrassing almost immediately afterward br br overall be cool may be worth a rental for john travolta die hards of which i am one but you may want to keep your finger close to the fast forward button to get through it without feeling that you wasted too much time fans of get shorty may actually wish to avoid this as the sequel is devoid of most things that made that one a winner i rate this movie an admittedly harsh 4 10</td>\n",
       "      <td>despite john travolta statements interviews favorite role career cool proves disappointing sequel 1995 witty clever get shorty br br travolta delivers pleasant enough performance mildly entertaining film ultimately movie falls flat due underdeveloped plot unlikeable characters surprising lack chemistry leads travolta uma thurman although laughs unfunny dialog example appeared frequently trailers kind says thurman dance travolta hey brooklyn br br film suggests everyone entertainment business gangster aspires one likening organized crime get shorty premise gangster going legitimate getting movies clever fish water idea cool seems biz entirely gone crooked since br br film interestingly casted absolute highlight monolgue delivered rock whose character aspiring actor well goon reenacts scene gabrielle union kirsten dunst bring vince vaughan character thinks black often seen dressed pimp quite funny first scene introduces gets tired embarrassing almost immediately afterward br br overall cool may worth rental john travolta die hards one may want keep finger close fast forward button get without feeling wasted much time fans get shorty may actually wish avoid sequel devoid things made one winner rate movie admittedly harsh 4 10</td>\n",
       "    </tr>\n",
       "    <tr>\n",
       "      <th>2</th>\n",
       "      <td>i am a kung fu fan but not a woo fan i have no interest in gangster movies filled with over the top gun play now martial arts that s beautiful and john woo surprised me here by producing a highly entertaining kung fu movie which almost has too much fighting if such a thing is possible this is good stuff br br many of the fight scenes are very good and some of them are less good and the main characters are amusing and likable the bad guys are a bit too unbelievably evil but entertaining none the less you gotta see the sleeping wizard he can only fight when he s asleep it s hysterical br br upon repeated viewings however last hurrah for chivalry can tend to get a little boring and long winded also especially because many of the fight scenes are actually not that good hence i rate it only a 7 out of 10 but it really is almost an 8 br br all in all one of the better kung fu movies made smack dab in the heart of kung fu cinema s prime all the really good kung fu movies are from the mid to late 1970ies with some notable exceptions from the late 60ies and early 70ies and early 80ies to be fair</td>\n",
       "      <td>kung fu fan woo fan interest gangster movies filled top gun play martial arts beautiful john woo surprised producing highly entertaining kung fu movie almost much fighting thing possible good stuff br br many fight scenes good less good main characters amusing likable bad guys bit unbelievably evil entertaining none less gotta see sleeping wizard fight asleep hysterical br br upon repeated viewings however last hurrah chivalry tend get little boring long winded also especially many fight scenes actually good hence rate 7 10 really almost 8 br br one better kung fu movies made smack dab heart kung fu cinema prime really good kung fu movies mid late 1970ies notable exceptions late 60ies early 70ies early 80ies fair</td>\n",
       "    </tr>\n",
       "    <tr>\n",
       "      <th>3</th>\n",
       "      <td>he seems to be a control freak i have heard him comment on losing control of the show and tell another guest who brought live animals that he had one rule no snakes he needs to hire a comedy writer because his jokes are lame the only reason i watch him is because he some some great guests and bands br br i watched the craig ferguson show for a while but his show is even worse he likes to bull sh to burn time i don t think either man has much of a future in late night talk shows br br daily also has the annoying habit of sticking his tongue out to lick his lips he must do this at least 10 times a show i do like the joe firstman band carson daily needs to lighten up before it is too late</td>\n",
       "      <td>seems control freak heard comment losing control show tell another guest brought live animals one rule snakes needs hire comedy writer jokes lame reason watch great guests bands br br watched craig ferguson show show even worse likes bull sh burn time think either man much future late night talk shows br br daily also annoying habit sticking tongue lick lips must least 10 times show like joe firstman band carson daily needs lighten late</td>\n",
       "    </tr>\n",
       "  </tbody>\n",
       "</table>\n",
       "</div>"
      ],
      "text/plain": [
       "                                                                                                                                                                                                                                                                                                                                                                                                                                                                                                                                                                                                                                                                                                                                                                                                                                                                                                                                                                                                                                                                                                                                                                                                                                                                                                                                                                                                                                                                                                                                                                                                                                                                                                                                                                                                          cleaned_text  \\\n",
       "0                                                                                                                                                                                                                                                                                                                                                                                                                                                                                                                                                                                                                                                                                                                                                                                                                                                                                                                                                                                                                    okay i know this does nt project india in a good light but the overall theme of the movie is not india it s shakti the power of a warlord and the power of a mother the relationship between nandini and her husband and son swallow you up in their warmth then things go terribly wrong the interaction between nandini and her father in law the power of their dysfunctional relationship and the lives changed by it are the strengths of this movie shah rukh khan s performance seems to be a mere cameo compared to the believable desperation of karisma kapoor it is easy to get caught up in the love violence and redemption of lives in this film and find yourself heaving a sigh of relief and sadness at the climax the musical interludes are strengths believable and well done   \n",
       "1  despite john travolta s statements in interviews that this was his favorite role of his career be cool proves to be a disappointing sequel to 1995 s witty and clever get shorty br br travolta delivers a pleasant enough performance in this mildly entertaining film but ultimately the movie falls flat due to an underdeveloped plot unlikeable characters and a surprising lack of chemistry between leads travolta and uma thurman although there are some laughs this unfunny dialog example which appeared frequently in the trailers kind of says it all thurman do you dance travolta hey i m from brooklyn br br the film suggests that everyone in the entertainment business is a gangster or aspires to be one likening it to organized crime in get shorty the premise of a gangster going legitimate by getting into movies was a clever fish out of water idea but in be cool it seems the biz has entirely gone crooked since then br br the film is interestingly casted and the absolute highlight is a monolgue delivered by the rock whose character is an aspiring actor as well as a goon where he reenacts a scene between gabrielle union and kirsten dunst from bring it on vince vaughan s character thinks he s black and he s often seen dressed as a pimp this was quite funny in the first scene that introduces him and gets tired and embarrassing almost immediately afterward br br overall be cool may be worth a rental for john travolta die hards of which i am one but you may want to keep your finger close to the fast forward button to get through it without feeling that you wasted too much time fans of get shorty may actually wish to avoid this as the sequel is devoid of most things that made that one a winner i rate this movie an admittedly harsh 4 10   \n",
       "2                                                                                                                                                                                                                                                                                                                                                                                                                                                                                                                                                                                                                                                                      i am a kung fu fan but not a woo fan i have no interest in gangster movies filled with over the top gun play now martial arts that s beautiful and john woo surprised me here by producing a highly entertaining kung fu movie which almost has too much fighting if such a thing is possible this is good stuff br br many of the fight scenes are very good and some of them are less good and the main characters are amusing and likable the bad guys are a bit too unbelievably evil but entertaining none the less you gotta see the sleeping wizard he can only fight when he s asleep it s hysterical br br upon repeated viewings however last hurrah for chivalry can tend to get a little boring and long winded also especially because many of the fight scenes are actually not that good hence i rate it only a 7 out of 10 but it really is almost an 8 br br all in all one of the better kung fu movies made smack dab in the heart of kung fu cinema s prime all the really good kung fu movies are from the mid to late 1970ies with some notable exceptions from the late 60ies and early 70ies and early 80ies to be fair   \n",
       "3                                                                                                                                                                                                                                                                                                                                                                                                                                                                                                                                                                                                                                                                                                                                                                                                                                                                                                                                                                                                                                                                                               he seems to be a control freak i have heard him comment on losing control of the show and tell another guest who brought live animals that he had one rule no snakes he needs to hire a comedy writer because his jokes are lame the only reason i watch him is because he some some great guests and bands br br i watched the craig ferguson show for a while but his show is even worse he likes to bull sh to burn time i don t think either man has much of a future in late night talk shows br br daily also has the annoying habit of sticking his tongue out to lick his lips he must do this at least 10 times a show i do like the joe firstman band carson daily needs to lighten up before it is too late   \n",
       "\n",
       "                                                                                                                                                                                                                                                                                                                                                                                                                                                                                                                                                                                                                                                                                                                                                                                                                                                                                                                                                                                                                                                                                                                                                                                                                                                               cleaned_text_without_stopwords  \n",
       "0                                                                                                                                                                                                                                                                                                                                                                                                                                                                                                                                                                                                                                                                                                                                                                           okay know nt project india good light overall theme movie india shakti power warlord power mother relationship nandini husband son swallow warmth things go terribly wrong interaction nandini father law power dysfunctional relationship lives changed strengths movie shah rukh khan performance seems mere cameo compared believable desperation karisma kapoor easy get caught love violence redemption lives film find heaving sigh relief sadness climax musical interludes strengths believable well done  \n",
       "1  despite john travolta statements interviews favorite role career cool proves disappointing sequel 1995 witty clever get shorty br br travolta delivers pleasant enough performance mildly entertaining film ultimately movie falls flat due underdeveloped plot unlikeable characters surprising lack chemistry leads travolta uma thurman although laughs unfunny dialog example appeared frequently trailers kind says thurman dance travolta hey brooklyn br br film suggests everyone entertainment business gangster aspires one likening organized crime get shorty premise gangster going legitimate getting movies clever fish water idea cool seems biz entirely gone crooked since br br film interestingly casted absolute highlight monolgue delivered rock whose character aspiring actor well goon reenacts scene gabrielle union kirsten dunst bring vince vaughan character thinks black often seen dressed pimp quite funny first scene introduces gets tired embarrassing almost immediately afterward br br overall cool may worth rental john travolta die hards one may want keep finger close fast forward button get without feeling wasted much time fans get shorty may actually wish avoid sequel devoid things made one winner rate movie admittedly harsh 4 10  \n",
       "2                                                                                                                                                                                                                                                                                                                                                                                                                                                                                                                                          kung fu fan woo fan interest gangster movies filled top gun play martial arts beautiful john woo surprised producing highly entertaining kung fu movie almost much fighting thing possible good stuff br br many fight scenes good less good main characters amusing likable bad guys bit unbelievably evil entertaining none less gotta see sleeping wizard fight asleep hysterical br br upon repeated viewings however last hurrah chivalry tend get little boring long winded also especially many fight scenes actually good hence rate 7 10 really almost 8 br br one better kung fu movies made smack dab heart kung fu cinema prime really good kung fu movies mid late 1970ies notable exceptions late 60ies early 70ies early 80ies fair  \n",
       "3                                                                                                                                                                                                                                                                                                                                                                                                                                                                                                                                                                                                                                                                                                                                                                                                                                    seems control freak heard comment losing control show tell another guest brought live animals one rule snakes needs hire comedy writer jokes lame reason watch great guests bands br br watched craig ferguson show show even worse likes bull sh burn time think either man much future late night talk shows br br daily also annoying habit sticking tongue lick lips must least 10 times show like joe firstman band carson daily needs lighten late  "
      ]
     },
     "execution_count": 59,
     "metadata": {},
     "output_type": "execute_result"
    }
   ],
   "source": [
    "# checking a couple of instances of cleaned data\n",
    "data.loc[0:3,['cleaned_text','cleaned_text_without_stopwords']]"
   ]
  },
  {
   "cell_type": "code",
   "execution_count": 60,
   "metadata": {
    "executionInfo": {
     "elapsed": 3,
     "status": "ok",
     "timestamp": 1749726182249,
     "user": {
      "displayName": "Harish R",
      "userId": "16560730339059888072"
     },
     "user_tz": -330
    },
    "id": "g2Nv5egY25SY"
   },
   "outputs": [],
   "source": [
    "# Loading the Porter Stemmer\n",
    "ps = PorterStemmer()\n",
    "\n",
    "# defining a function to perform stemming\n",
    "def apply_porter_stemmer(text):\n",
    "    # Split text into separate words\n",
    "    words = text.split()\n",
    "\n",
    "    # Applying the Porter Stemmer on every word of a message and joining the stemmed words back into a single string\n",
    "    new_text = ' '.join([ps.stem(word) for word in words])\n",
    "\n",
    "    return new_text"
   ]
  },
  {
   "cell_type": "code",
   "execution_count": 61,
   "metadata": {
    "executionInfo": {
     "elapsed": 23203,
     "status": "ok",
     "timestamp": 1749726205455,
     "user": {
      "displayName": "Harish R",
      "userId": "16560730339059888072"
     },
     "user_tz": -330
    },
    "id": "dR0rx6_2oCzY"
   },
   "outputs": [],
   "source": [
    "# Applying the function to perform stemming\n",
    "data['final_cleaned_text'] = data['cleaned_text_without_stopwords'].apply(apply_porter_stemmer)"
   ]
  },
  {
   "cell_type": "code",
   "execution_count": 62,
   "metadata": {
    "colab": {
     "base_uri": "https://localhost:8080/",
     "height": 751
    },
    "executionInfo": {
     "elapsed": 33,
     "status": "ok",
     "timestamp": 1749726205484,
     "user": {
      "displayName": "Harish R",
      "userId": "16560730339059888072"
     },
     "user_tz": -330
    },
    "id": "RAc0gMU89KM7",
    "outputId": "a68302f3-b55a-4fd5-f25d-fe40fcd407ed"
   },
   "outputs": [
    {
     "data": {
      "text/html": [
       "<div>\n",
       "<style scoped>\n",
       "    .dataframe tbody tr th:only-of-type {\n",
       "        vertical-align: middle;\n",
       "    }\n",
       "\n",
       "    .dataframe tbody tr th {\n",
       "        vertical-align: top;\n",
       "    }\n",
       "\n",
       "    .dataframe thead th {\n",
       "        text-align: right;\n",
       "    }\n",
       "</style>\n",
       "<table border=\"1\" class=\"dataframe\">\n",
       "  <thead>\n",
       "    <tr style=\"text-align: right;\">\n",
       "      <th></th>\n",
       "      <th>cleaned_text_without_stopwords</th>\n",
       "      <th>final_cleaned_text</th>\n",
       "    </tr>\n",
       "  </thead>\n",
       "  <tbody>\n",
       "    <tr>\n",
       "      <th>0</th>\n",
       "      <td>okay know nt project india good light overall theme movie india shakti power warlord power mother relationship nandini husband son swallow warmth things go terribly wrong interaction nandini father law power dysfunctional relationship lives changed strengths movie shah rukh khan performance seems mere cameo compared believable desperation karisma kapoor easy get caught love violence redemption lives film find heaving sigh relief sadness climax musical interludes strengths believable well done</td>\n",
       "      <td>okay know nt project india good light overal theme movi india shakti power warlord power mother relationship nandini husband son swallow warmth thing go terribl wrong interact nandini father law power dysfunct relationship live chang strength movi shah rukh khan perform seem mere cameo compar believ desper karisma kapoor easi get caught love violenc redempt live film find heav sigh relief sad climax music interlud strength believ well done</td>\n",
       "    </tr>\n",
       "    <tr>\n",
       "      <th>1</th>\n",
       "      <td>despite john travolta statements interviews favorite role career cool proves disappointing sequel 1995 witty clever get shorty br br travolta delivers pleasant enough performance mildly entertaining film ultimately movie falls flat due underdeveloped plot unlikeable characters surprising lack chemistry leads travolta uma thurman although laughs unfunny dialog example appeared frequently trailers kind says thurman dance travolta hey brooklyn br br film suggests everyone entertainment business gangster aspires one likening organized crime get shorty premise gangster going legitimate getting movies clever fish water idea cool seems biz entirely gone crooked since br br film interestingly casted absolute highlight monolgue delivered rock whose character aspiring actor well goon reenacts scene gabrielle union kirsten dunst bring vince vaughan character thinks black often seen dressed pimp quite funny first scene introduces gets tired embarrassing almost immediately afterward br br overall cool may worth rental john travolta die hards one may want keep finger close fast forward button get without feeling wasted much time fans get shorty may actually wish avoid sequel devoid things made one winner rate movie admittedly harsh 4 10</td>\n",
       "      <td>despit john travolta statement interview favorit role career cool prove disappoint sequel 1995 witti clever get shorti br br travolta deliv pleasant enough perform mildli entertain film ultim movi fall flat due underdevelop plot unlik charact surpris lack chemistri lead travolta uma thurman although laugh unfunni dialog exampl appear frequent trailer kind say thurman danc travolta hey brooklyn br br film suggest everyon entertain busi gangster aspir one liken organ crime get shorti premis gangster go legitim get movi clever fish water idea cool seem biz entir gone crook sinc br br film interestingli cast absolut highlight monolgu deliv rock whose charact aspir actor well goon reenact scene gabriel union kirsten dunst bring vinc vaughan charact think black often seen dress pimp quit funni first scene introduc get tire embarrass almost immedi afterward br br overal cool may worth rental john travolta die hard one may want keep finger close fast forward button get without feel wast much time fan get shorti may actual wish avoid sequel devoid thing made one winner rate movi admittedli harsh 4 10</td>\n",
       "    </tr>\n",
       "    <tr>\n",
       "      <th>2</th>\n",
       "      <td>kung fu fan woo fan interest gangster movies filled top gun play martial arts beautiful john woo surprised producing highly entertaining kung fu movie almost much fighting thing possible good stuff br br many fight scenes good less good main characters amusing likable bad guys bit unbelievably evil entertaining none less gotta see sleeping wizard fight asleep hysterical br br upon repeated viewings however last hurrah chivalry tend get little boring long winded also especially many fight scenes actually good hence rate 7 10 really almost 8 br br one better kung fu movies made smack dab heart kung fu cinema prime really good kung fu movies mid late 1970ies notable exceptions late 60ies early 70ies early 80ies fair</td>\n",
       "      <td>kung fu fan woo fan interest gangster movi fill top gun play martial art beauti john woo surpris produc highli entertain kung fu movi almost much fight thing possibl good stuff br br mani fight scene good less good main charact amus likabl bad guy bit unbeliev evil entertain none less gotta see sleep wizard fight asleep hyster br br upon repeat view howev last hurrah chivalri tend get littl bore long wind also especi mani fight scene actual good henc rate 7 10 realli almost 8 br br one better kung fu movi made smack dab heart kung fu cinema prime realli good kung fu movi mid late 1970i notabl except late 60i earli 70i earli 80i fair</td>\n",
       "    </tr>\n",
       "  </tbody>\n",
       "</table>\n",
       "</div>"
      ],
      "text/plain": [
       "                                                                                                                                                                                                                                                                                                                                                                                                                                                                                                                                                                                                                                                                                                                                                                                                                                                                                                                                                                                                                                                                                                                                                                                                                                                               cleaned_text_without_stopwords  \\\n",
       "0                                                                                                                                                                                                                                                                                                                                                                                                                                                                                                                                                                                                                                                                                                                                                                           okay know nt project india good light overall theme movie india shakti power warlord power mother relationship nandini husband son swallow warmth things go terribly wrong interaction nandini father law power dysfunctional relationship lives changed strengths movie shah rukh khan performance seems mere cameo compared believable desperation karisma kapoor easy get caught love violence redemption lives film find heaving sigh relief sadness climax musical interludes strengths believable well done   \n",
       "1  despite john travolta statements interviews favorite role career cool proves disappointing sequel 1995 witty clever get shorty br br travolta delivers pleasant enough performance mildly entertaining film ultimately movie falls flat due underdeveloped plot unlikeable characters surprising lack chemistry leads travolta uma thurman although laughs unfunny dialog example appeared frequently trailers kind says thurman dance travolta hey brooklyn br br film suggests everyone entertainment business gangster aspires one likening organized crime get shorty premise gangster going legitimate getting movies clever fish water idea cool seems biz entirely gone crooked since br br film interestingly casted absolute highlight monolgue delivered rock whose character aspiring actor well goon reenacts scene gabrielle union kirsten dunst bring vince vaughan character thinks black often seen dressed pimp quite funny first scene introduces gets tired embarrassing almost immediately afterward br br overall cool may worth rental john travolta die hards one may want keep finger close fast forward button get without feeling wasted much time fans get shorty may actually wish avoid sequel devoid things made one winner rate movie admittedly harsh 4 10   \n",
       "2                                                                                                                                                                                                                                                                                                                                                                                                                                                                                                                                          kung fu fan woo fan interest gangster movies filled top gun play martial arts beautiful john woo surprised producing highly entertaining kung fu movie almost much fighting thing possible good stuff br br many fight scenes good less good main characters amusing likable bad guys bit unbelievably evil entertaining none less gotta see sleeping wizard fight asleep hysterical br br upon repeated viewings however last hurrah chivalry tend get little boring long winded also especially many fight scenes actually good hence rate 7 10 really almost 8 br br one better kung fu movies made smack dab heart kung fu cinema prime really good kung fu movies mid late 1970ies notable exceptions late 60ies early 70ies early 80ies fair   \n",
       "\n",
       "                                                                                                                                                                                                                                                                                                                                                                                                                                                                                                                                                                                                                                                                                                                                                                                                                                                                                                                                                                                                                                                                                                                                     final_cleaned_text  \n",
       "0                                                                                                                                                                                                                                                                                                                                                                                                                                                                                                                                                                                                                                                                                           okay know nt project india good light overal theme movi india shakti power warlord power mother relationship nandini husband son swallow warmth thing go terribl wrong interact nandini father law power dysfunct relationship live chang strength movi shah rukh khan perform seem mere cameo compar believ desper karisma kapoor easi get caught love violenc redempt live film find heav sigh relief sad climax music interlud strength believ well done  \n",
       "1  despit john travolta statement interview favorit role career cool prove disappoint sequel 1995 witti clever get shorti br br travolta deliv pleasant enough perform mildli entertain film ultim movi fall flat due underdevelop plot unlik charact surpris lack chemistri lead travolta uma thurman although laugh unfunni dialog exampl appear frequent trailer kind say thurman danc travolta hey brooklyn br br film suggest everyon entertain busi gangster aspir one liken organ crime get shorti premis gangster go legitim get movi clever fish water idea cool seem biz entir gone crook sinc br br film interestingli cast absolut highlight monolgu deliv rock whose charact aspir actor well goon reenact scene gabriel union kirsten dunst bring vinc vaughan charact think black often seen dress pimp quit funni first scene introduc get tire embarrass almost immedi afterward br br overal cool may worth rental john travolta die hard one may want keep finger close fast forward button get without feel wast much time fan get shorti may actual wish avoid sequel devoid thing made one winner rate movi admittedli harsh 4 10  \n",
       "2                                                                                                                                                                                                                                                                                                                                                                                                                                                                                      kung fu fan woo fan interest gangster movi fill top gun play martial art beauti john woo surpris produc highli entertain kung fu movi almost much fight thing possibl good stuff br br mani fight scene good less good main charact amus likabl bad guy bit unbeliev evil entertain none less gotta see sleep wizard fight asleep hyster br br upon repeat view howev last hurrah chivalri tend get littl bore long wind also especi mani fight scene actual good henc rate 7 10 realli almost 8 br br one better kung fu movi made smack dab heart kung fu cinema prime realli good kung fu movi mid late 1970i notabl except late 60i earli 70i earli 80i fair  "
      ]
     },
     "execution_count": 62,
     "metadata": {},
     "output_type": "execute_result"
    }
   ],
   "source": [
    "# checking a couple of instances of cleaned data\n",
    "data.loc[0:2,['cleaned_text_without_stopwords','final_cleaned_text']]"
   ]
  },
  {
   "cell_type": "code",
   "execution_count": 63,
   "metadata": {
    "colab": {
     "base_uri": "https://localhost:8080/"
    },
    "executionInfo": {
     "elapsed": 1077,
     "status": "ok",
     "timestamp": 1749726207120,
     "user": {
      "displayName": "Harish R",
      "userId": "16560730339059888072"
     },
     "user_tz": -330
    },
    "id": "N6QlX2WYzw8s",
    "outputId": "f8333ea4-1659-4c15-f7bb-6a073cfbbfb2"
   },
   "outputs": [
    {
     "data": {
      "text/plain": [
       "(9982, 1000)"
      ]
     },
     "execution_count": 63,
     "metadata": {},
     "output_type": "execute_result"
    }
   ],
   "source": [
    "# Initializing CountVectorizer with top 1000 words\n",
    "bow_vec = CountVectorizer(max_features = 1000)\n",
    "\n",
    "# Applying TfidfVectorizer on data\n",
    "data_features_BOW = bow_vec.fit_transform(data['final_cleaned_text'])\n",
    "\n",
    "# Convert the data features to array\n",
    "data_features_BOW = data_features_BOW.toarray()\n",
    "\n",
    "# Shape of the feature vector\n",
    "data_features_BOW.shape"
   ]
  },
  {
   "cell_type": "code",
   "execution_count": 64,
   "metadata": {
    "executionInfo": {
     "elapsed": 125,
     "status": "ok",
     "timestamp": 1749726207123,
     "user": {
      "displayName": "Harish R",
      "userId": "16560730339059888072"
     },
     "user_tz": -330
    },
    "id": "GJiYB_i0s-Ks"
   },
   "outputs": [],
   "source": [
    "# Getting the 1000 words considered by the BoW model\n",
    "words = bow_vec.get_feature_names_out()"
   ]
  },
  {
   "cell_type": "code",
   "execution_count": 65,
   "metadata": {
    "colab": {
     "base_uri": "https://localhost:8080/"
    },
    "executionInfo": {
     "elapsed": 124,
     "status": "ok",
     "timestamp": 1749726207125,
     "user": {
      "displayName": "Harish R",
      "userId": "16560730339059888072"
     },
     "user_tz": -330
    },
    "id": "vq27PZvf_K3m",
    "outputId": "55227a39-2983-4880-fd0c-c395bbdfa3fc"
   },
   "outputs": [
    {
     "data": {
      "text/plain": [
       "array(['10', '100', '20', '30', '50', '60', '70', '80', '90', 'abil',\n",
       "       'abl', 'absolut', 'accent', 'accept', 'achiev', 'across', 'act',\n",
       "       'action', 'actor', 'actress', 'actual', 'ad', 'adapt', 'add',\n",
       "       'admit', 'adult', 'adventur', 'age', 'ago', 'agre', 'air', 'alien',\n",
       "       'aliv', 'allow', 'almost', 'alon', 'along', 'alreadi', 'also',\n",
       "       'although', 'alway', 'amaz', 'america', 'american', 'among',\n",
       "       'amount', 'amus', 'anim', 'ann', 'annoy', 'anoth', 'answer',\n",
       "       'anti', 'anyon', 'anyth', 'anyway', 'apart', 'appar', 'appeal',\n",
       "       'appear', 'appreci', 'approach', 'armi', 'around', 'arriv', 'art',\n",
       "       'artist', 'ask', 'aspect', 'atmospher', 'attack', 'attempt',\n",
       "       'attent', 'attract', 'audienc', 'averag', 'avoid', 'aw', 'award',\n",
       "       'away', 'awesom', 'babi', 'back', 'background', 'bad', 'badli',\n",
       "       'band', 'bare', 'base', 'basic', 'battl', 'beat', 'beauti',\n",
       "       'becam', 'becom', 'begin', 'behind', 'believ', 'best', 'better',\n",
       "       'beyond', 'big', 'bill', 'bit', 'black', 'blood', 'blue', 'bodi',\n",
       "       'bond', 'book', 'bore', 'bother', 'box', 'boy', 'br', 'brain',\n",
       "       'break', 'brilliant', 'bring', 'british', 'brother', 'brought',\n",
       "       'budget', 'build', 'bunch', 'burn', 'busi', 'buy', 'call', 'came',\n",
       "       'camera', 'cannot', 'captur', 'car', 'care', 'career', 'carri',\n",
       "       'cartoon', 'case', 'cast', 'cat', 'catch', 'caught', 'caus',\n",
       "       'centuri', 'certain', 'certainli', 'chanc', 'chang', 'channel',\n",
       "       'charact', 'charm', 'chase', 'cheap', 'check', 'cheesi', 'child',\n",
       "       'children', 'choic', 'christma', 'cinema', 'cinematographi',\n",
       "       'citi', 'claim', 'class', 'classic', 'clear', 'clearli', 'clever',\n",
       "       'clich', 'close', 'co', 'cold', 'collect', 'color', 'combin',\n",
       "       'come', 'comedi', 'comic', 'comment', 'commit', 'common', 'commun',\n",
       "       'compani', 'compar', 'complet', 'complex', 'concept', 'concern',\n",
       "       'conclus', 'confus', 'connect', 'consid', 'contain', 'continu',\n",
       "       'control', 'convinc', 'cool', 'cop', 'copi', 'costum', 'could',\n",
       "       'countri', 'coupl', 'cours', 'cover', 'crap', 'crazi', 'creat',\n",
       "       'creatur', 'credit', 'creepi', 'crew', 'cri', 'crime', 'critic',\n",
       "       'cross', 'cultur', 'cut', 'cute', 'danc', 'danger', 'dark', 'date',\n",
       "       'daughter', 'david', 'day', 'de', 'dead', 'deal', 'death',\n",
       "       'decent', 'decid', 'deep', 'definit', 'deliv', 'depict', 'depth',\n",
       "       'describ', 'deserv', 'design', 'desper', 'despit', 'destroy',\n",
       "       'detail', 'develop', 'dialog', 'dialogu', 'die', 'differ',\n",
       "       'difficult', 'direct', 'director', 'disappoint', 'discov',\n",
       "       'disney', 'disturb', 'doctor', 'documentari', 'dog', 'done',\n",
       "       'door', 'doubt', 'dr', 'drag', 'drama', 'dramat', 'dream', 'dress',\n",
       "       'drive', 'drug', 'due', 'dull', 'dumb', 'dvd', 'earli', 'earlier',\n",
       "       'earth', 'easi', 'easili', 'eat', 'edg', 'edit', 'effect',\n",
       "       'effort', 'either', 'element', 'els', 'emot', 'end', 'engag',\n",
       "       'english', 'enjoy', 'enough', 'entertain', 'entir', 'episod',\n",
       "       'equal', 'era', 'escap', 'especi', 'etc', 'even', 'event',\n",
       "       'eventu', 'ever', 'everi', 'everyon', 'everyth', 'evil', 'exactli',\n",
       "       'exampl', 'excel', 'except', 'excit', 'execut', 'exist', 'expect',\n",
       "       'experi', 'explain', 'exploit', 'express', 'extra', 'extrem',\n",
       "       'eye', 'face', 'fact', 'fail', 'fake', 'fall', 'famili',\n",
       "       'familiar', 'famou', 'fan', 'fantasi', 'fantast', 'far', 'fascin',\n",
       "       'fashion', 'fast', 'father', 'favorit', 'fear', 'featur', 'feel',\n",
       "       'felt', 'femal', 'fi', 'fiction', 'fight', 'figur', 'fill', 'film',\n",
       "       'filmmak', 'final', 'find', 'fine', 'finish', 'fire', 'first',\n",
       "       'fit', 'five', 'flat', 'flaw', 'fli', 'flick', 'follow', 'footag',\n",
       "       'forc', 'forget', 'form', 'forward', 'found', 'four', 'free',\n",
       "       'french', 'friend', 'front', 'full', 'fun', 'funni', 'futur',\n",
       "       'game', 'gave', 'gay', 'gener', 'genr', 'georg', 'german', 'get',\n",
       "       'girl', 'girlfriend', 'give', 'given', 'go', 'god', 'goe', 'gone',\n",
       "       'good', 'gore', 'got', 'great', 'greatest', 'group', 'grow',\n",
       "       'guess', 'gun', 'guy', 'hair', 'half', 'hand', 'happen', 'happi',\n",
       "       'hard', 'hardli', 'harri', 'hate', 'head', 'hear', 'heard',\n",
       "       'heart', 'hell', 'help', 'hero', 'high', 'highli', 'hilari',\n",
       "       'histor', 'histori', 'hit', 'hold', 'hole', 'hollywood', 'home',\n",
       "       'hope', 'horribl', 'horror', 'hot', 'hour', 'hous', 'howev',\n",
       "       'huge', 'human', 'humor', 'husband', 'idea', 'ignor', 'imag',\n",
       "       'imagin', 'imdb', 'immedi', 'import', 'impress', 'includ',\n",
       "       'incred', 'inde', 'inform', 'innoc', 'insid', 'inspir', 'instead',\n",
       "       'intellig', 'intens', 'intent', 'interest', 'introduc', 'involv',\n",
       "       'island', 'issu', 'italian', 'jack', 'jame', 'jane', 'japanes',\n",
       "       'job', 'joe', 'john', 'joke', 'jone', 'judg', 'jump', 'keep',\n",
       "       'kept', 'kick', 'kid', 'kill', 'killer', 'kind', 'king', 'knew',\n",
       "       'know', 'known', 'la', 'lack', 'ladi', 'lame', 'land', 'languag',\n",
       "       'larg', 'last', 'late', 'later', 'laugh', 'law', 'lead', 'learn',\n",
       "       'least', 'leav', 'lee', 'left', 'less', 'let', 'level', 'lie',\n",
       "       'life', 'light', 'like', 'line', 'list', 'listen', 'liter',\n",
       "       'littl', 'live', 'local', 'locat', 'long', 'look', 'lose', 'lost',\n",
       "       'lot', 'love', 'lover', 'low', 'mad', 'made', 'magic', 'main',\n",
       "       'major', 'make', 'maker', 'male', 'man', 'manag', 'mani', 'mari',\n",
       "       'mark', 'marri', 'master', 'masterpiec', 'match', 'materi',\n",
       "       'matter', 'may', 'mayb', 'mean', 'meant', 'meet', 'member',\n",
       "       'memor', 'memori', 'men', 'mental', 'mention', 'mere', 'mess',\n",
       "       'messag', 'michael', 'middl', 'might', 'mind', 'minor', 'minut',\n",
       "       'miss', 'mistak', 'mix', 'modern', 'moment', 'money', 'monster',\n",
       "       'moral', 'mostli', 'mother', 'move', 'movi', 'mr', 'much',\n",
       "       'murder', 'music', 'must', 'mysteri', 'name', 'nation', 'natur',\n",
       "       'near', 'nearli', 'need', 'never', 'new', 'next', 'nice', 'night',\n",
       "       'non', 'none', 'normal', 'note', 'noth', 'notic', 'novel',\n",
       "       'nuditi', 'number', 'obviou', 'obvious', 'odd', 'offer', 'offic',\n",
       "       'often', 'oh', 'ok', 'okay', 'old', 'older', 'one', 'open',\n",
       "       'opinion', 'order', 'origin', 'oscar', 'other', 'otherwis',\n",
       "       'outsid', 'overal', 'pace', 'pain', 'parent', 'part', 'parti',\n",
       "       'particular', 'particularli', 'pass', 'passion', 'past', 'pathet',\n",
       "       'paul', 'pay', 'peopl', 'perfect', 'perfectli', 'perform',\n",
       "       'perhap', 'period', 'person', 'peter', 'physic', 'pick', 'pictur',\n",
       "       'piec', 'place', 'plain', 'plan', 'play', 'player', 'pleas',\n",
       "       'plenti', 'plot', 'plu', 'point', 'polic', 'polit', 'poor',\n",
       "       'poorli', 'pop', 'popular', 'portray', 'posit', 'possibl', 'post',\n",
       "       'potenti', 'power', 'predict', 'premis', 'present', 'pretti',\n",
       "       'previou', 'prison', 'probabl', 'problem', 'produc', 'product',\n",
       "       'project', 'promis', 'prove', 'provid', 'public', 'pull', 'pure',\n",
       "       'purpos', 'put', 'qualiti', 'question', 'quickli', 'quit', 'race',\n",
       "       'rare', 'rate', 'rather', 'reach', 'read', 'real', 'realist',\n",
       "       'realiti', 'realiz', 'realli', 'reason', 'recent', 'recommend',\n",
       "       'record', 'red', 'refer', 'relat', 'relationship', 'releas',\n",
       "       'remain', 'remak', 'remark', 'rememb', 'remind', 'rent', 'respect',\n",
       "       'respons', 'rest', 'result', 'return', 'reveal', 'review', 'rich',\n",
       "       'richard', 'ride', 'ridicul', 'right', 'rip', 'robert', 'rock',\n",
       "       'role', 'roll', 'romanc', 'romant', 'room', 'run', 'sad', 'sadli',\n",
       "       'said', 'save', 'saw', 'say', 'scare', 'scari', 'scene', 'school',\n",
       "       'sci', 'scienc', 'score', 'scott', 'scream', 'screen',\n",
       "       'screenplay', 'script', 'search', 'season', 'second', 'secret',\n",
       "       'see', 'seem', 'seen', 'self', 'sens', 'sequel', 'sequenc', 'seri',\n",
       "       'seriou', 'serious', 'serv', 'set', 'sever', 'sex', 'sexual',\n",
       "       'shame', 'share', 'ship', 'shock', 'shoot', 'short', 'shot',\n",
       "       'show', 'shown', 'side', 'silli', 'similar', 'simpl', 'simpli',\n",
       "       'sinc', 'sing', 'singl', 'sister', 'sit', 'situat', 'skill',\n",
       "       'sleep', 'slow', 'small', 'social', 'societi', 'soldier',\n",
       "       'somehow', 'someon', 'someth', 'sometim', 'somewhat', 'son',\n",
       "       'song', 'soon', 'sorri', 'sort', 'soul', 'sound', 'soundtrack',\n",
       "       'space', 'speak', 'special', 'spend', 'spent', 'spirit', 'spoiler',\n",
       "       'stage', 'stand', 'standard', 'star', 'start', 'state', 'stay',\n",
       "       'steal', 'step', 'stereotyp', 'stick', 'still', 'stop', 'store',\n",
       "       'stori', 'storylin', 'straight', 'strang', 'street', 'strong',\n",
       "       'struggl', 'student', 'studio', 'stuff', 'stupid', 'style',\n",
       "       'subject', 'success', 'suck', 'suffer', 'suggest', 'superb',\n",
       "       'support', 'suppos', 'sure', 'surpris', 'surviv', 'suspens',\n",
       "       'sweet', 'take', 'taken', 'tale', 'talent', 'talk', 'tast', 'team',\n",
       "       'teen', 'teenag', 'televis', 'tell', 'ten', 'tension', 'term',\n",
       "       'terribl', 'thank', 'theater', 'theme', 'thing', 'think', 'third',\n",
       "       'though', 'thought', 'three', 'thriller', 'throughout', 'throw',\n",
       "       'time', 'titl', 'today', 'togeth', 'told', 'tom', 'took', 'top',\n",
       "       'tortur', 'total', 'touch', 'toward', 'town', 'track', 'train',\n",
       "       'trash', 'travel', 'treat', 'tri', 'troubl', 'true', 'truli',\n",
       "       'truth', 'turn', 'tv', 'twist', 'two', 'type', 'typic', 'ultim',\n",
       "       'understand', 'unfortun', 'uniqu', 'univers', 'unless', 'unlik',\n",
       "       'upon', 'us', 'use', 'usual', 'valu', 'vampir', 'variou',\n",
       "       'version', 'victim', 'video', 'view', 'viewer', 'villain',\n",
       "       'violenc', 'visual', 'voic', 'wait', 'walk', 'want', 'war', 'warn',\n",
       "       'wast', 'watch', 'water', 'way', 'weak', 'wear', 'week', 'weird',\n",
       "       'well', 'went', 'western', 'whatev', 'whether', 'white', 'whole',\n",
       "       'whose', 'wife', 'william', 'win', 'wish', 'wit', 'within',\n",
       "       'without', 'woman', 'women', 'wonder', 'wood', 'word', 'work',\n",
       "       'world', 'wors', 'worst', 'worth', 'would', 'write', 'writer',\n",
       "       'written', 'wrong', 'wrote', 'ye', 'year', 'yet', 'york', 'young',\n",
       "       'zombi'], dtype=object)"
      ]
     },
     "execution_count": 65,
     "metadata": {},
     "output_type": "execute_result"
    }
   ],
   "source": [
    "# Checking the words considered by BoW model\n",
    "words"
   ]
  },
  {
   "cell_type": "code",
   "execution_count": 66,
   "metadata": {
    "colab": {
     "base_uri": "https://localhost:8080/",
     "height": 0
    },
    "executionInfo": {
     "elapsed": 8,
     "status": "ok",
     "timestamp": 1749726207135,
     "user": {
      "displayName": "Harish R",
      "userId": "16560730339059888072"
     },
     "user_tz": -330
    },
    "id": "bgIxRAlB_YuC",
    "outputId": "df179607-9575-4f45-a28e-105646113028"
   },
   "outputs": [
    {
     "data": {
      "text/html": [
       "<div>\n",
       "<style scoped>\n",
       "    .dataframe tbody tr th:only-of-type {\n",
       "        vertical-align: middle;\n",
       "    }\n",
       "\n",
       "    .dataframe tbody tr th {\n",
       "        vertical-align: top;\n",
       "    }\n",
       "\n",
       "    .dataframe thead th {\n",
       "        text-align: right;\n",
       "    }\n",
       "</style>\n",
       "<table border=\"1\" class=\"dataframe\">\n",
       "  <thead>\n",
       "    <tr style=\"text-align: right;\">\n",
       "      <th></th>\n",
       "      <th>10</th>\n",
       "      <th>100</th>\n",
       "      <th>20</th>\n",
       "      <th>30</th>\n",
       "      <th>50</th>\n",
       "      <th>60</th>\n",
       "      <th>70</th>\n",
       "      <th>80</th>\n",
       "      <th>90</th>\n",
       "      <th>abil</th>\n",
       "      <th>...</th>\n",
       "      <th>writer</th>\n",
       "      <th>written</th>\n",
       "      <th>wrong</th>\n",
       "      <th>wrote</th>\n",
       "      <th>ye</th>\n",
       "      <th>year</th>\n",
       "      <th>yet</th>\n",
       "      <th>york</th>\n",
       "      <th>young</th>\n",
       "      <th>zombi</th>\n",
       "    </tr>\n",
       "  </thead>\n",
       "  <tbody>\n",
       "    <tr>\n",
       "      <th>0</th>\n",
       "      <td>0</td>\n",
       "      <td>0</td>\n",
       "      <td>0</td>\n",
       "      <td>0</td>\n",
       "      <td>0</td>\n",
       "      <td>0</td>\n",
       "      <td>0</td>\n",
       "      <td>0</td>\n",
       "      <td>0</td>\n",
       "      <td>0</td>\n",
       "      <td>...</td>\n",
       "      <td>0</td>\n",
       "      <td>0</td>\n",
       "      <td>1</td>\n",
       "      <td>0</td>\n",
       "      <td>0</td>\n",
       "      <td>0</td>\n",
       "      <td>0</td>\n",
       "      <td>0</td>\n",
       "      <td>0</td>\n",
       "      <td>0</td>\n",
       "    </tr>\n",
       "    <tr>\n",
       "      <th>1</th>\n",
       "      <td>1</td>\n",
       "      <td>0</td>\n",
       "      <td>0</td>\n",
       "      <td>0</td>\n",
       "      <td>0</td>\n",
       "      <td>0</td>\n",
       "      <td>0</td>\n",
       "      <td>0</td>\n",
       "      <td>0</td>\n",
       "      <td>0</td>\n",
       "      <td>...</td>\n",
       "      <td>0</td>\n",
       "      <td>0</td>\n",
       "      <td>0</td>\n",
       "      <td>0</td>\n",
       "      <td>0</td>\n",
       "      <td>0</td>\n",
       "      <td>0</td>\n",
       "      <td>0</td>\n",
       "      <td>0</td>\n",
       "      <td>0</td>\n",
       "    </tr>\n",
       "    <tr>\n",
       "      <th>2</th>\n",
       "      <td>1</td>\n",
       "      <td>0</td>\n",
       "      <td>0</td>\n",
       "      <td>0</td>\n",
       "      <td>0</td>\n",
       "      <td>0</td>\n",
       "      <td>0</td>\n",
       "      <td>0</td>\n",
       "      <td>0</td>\n",
       "      <td>0</td>\n",
       "      <td>...</td>\n",
       "      <td>0</td>\n",
       "      <td>0</td>\n",
       "      <td>0</td>\n",
       "      <td>0</td>\n",
       "      <td>0</td>\n",
       "      <td>0</td>\n",
       "      <td>0</td>\n",
       "      <td>0</td>\n",
       "      <td>0</td>\n",
       "      <td>0</td>\n",
       "    </tr>\n",
       "    <tr>\n",
       "      <th>3</th>\n",
       "      <td>1</td>\n",
       "      <td>0</td>\n",
       "      <td>0</td>\n",
       "      <td>0</td>\n",
       "      <td>0</td>\n",
       "      <td>0</td>\n",
       "      <td>0</td>\n",
       "      <td>0</td>\n",
       "      <td>0</td>\n",
       "      <td>0</td>\n",
       "      <td>...</td>\n",
       "      <td>1</td>\n",
       "      <td>0</td>\n",
       "      <td>0</td>\n",
       "      <td>0</td>\n",
       "      <td>0</td>\n",
       "      <td>0</td>\n",
       "      <td>0</td>\n",
       "      <td>0</td>\n",
       "      <td>0</td>\n",
       "      <td>0</td>\n",
       "    </tr>\n",
       "    <tr>\n",
       "      <th>4</th>\n",
       "      <td>0</td>\n",
       "      <td>0</td>\n",
       "      <td>0</td>\n",
       "      <td>0</td>\n",
       "      <td>0</td>\n",
       "      <td>0</td>\n",
       "      <td>0</td>\n",
       "      <td>1</td>\n",
       "      <td>0</td>\n",
       "      <td>0</td>\n",
       "      <td>...</td>\n",
       "      <td>0</td>\n",
       "      <td>0</td>\n",
       "      <td>0</td>\n",
       "      <td>0</td>\n",
       "      <td>0</td>\n",
       "      <td>0</td>\n",
       "      <td>0</td>\n",
       "      <td>0</td>\n",
       "      <td>2</td>\n",
       "      <td>0</td>\n",
       "    </tr>\n",
       "  </tbody>\n",
       "</table>\n",
       "<p>5 rows × 1000 columns</p>\n",
       "</div>"
      ],
      "text/plain": [
       "   10  100  20  30  50  60  70  80  90  abil  ...  writer  written  wrong  \\\n",
       "0   0    0   0   0   0   0   0   0   0     0  ...       0        0      1   \n",
       "1   1    0   0   0   0   0   0   0   0     0  ...       0        0      0   \n",
       "2   1    0   0   0   0   0   0   0   0     0  ...       0        0      0   \n",
       "3   1    0   0   0   0   0   0   0   0     0  ...       1        0      0   \n",
       "4   0    0   0   0   0   0   0   1   0     0  ...       0        0      0   \n",
       "\n",
       "   wrote  ye  year  yet  york  young  zombi  \n",
       "0      0   0     0    0     0      0      0  \n",
       "1      0   0     0    0     0      0      0  \n",
       "2      0   0     0    0     0      0      0  \n",
       "3      0   0     0    0     0      0      0  \n",
       "4      0   0     0    0     0      2      0  \n",
       "\n",
       "[5 rows x 1000 columns]"
      ]
     },
     "execution_count": 66,
     "metadata": {},
     "output_type": "execute_result"
    }
   ],
   "source": [
    "# Creating a DataFrame from the data features\n",
    "df_BOW = pd.DataFrame(data_features_BOW, columns=bow_vec.get_feature_names_out())\n",
    "df_BOW.head()"
   ]
  }
 ],
 "metadata": {
  "colab": {
   "collapsed_sections": [
    "lKDOBv45zw8C",
    "wVldHvLCgnr9",
    "0Wiey7tkgz8P",
    "xptjKJz-_sYZ",
    "0GsZAWm0BiCQ",
    "ckwD7uwlsZwm",
    "mhzSVF82YYri",
    "62xkzNTFYmyq",
    "MUGy2CBnZa6g",
    "nZdNFg-5Zmiz",
    "2DftSZK9yQ74",
    "hLoWwpxzylZH",
    "c3F-popAzw8p",
    "wH77U4ukBiCe"
   ],
   "provenance": []
  },
  "kernelspec": {
   "display_name": ".venv",
   "language": "python",
   "name": "python3"
  },
  "language_info": {
   "codemirror_mode": {
    "name": "ipython",
    "version": 3
   },
   "file_extension": ".py",
   "mimetype": "text/x-python",
   "name": "python",
   "nbconvert_exporter": "python",
   "pygments_lexer": "ipython3",
   "version": "3.10.18"
  }
 },
 "nbformat": 4,
 "nbformat_minor": 0
}
